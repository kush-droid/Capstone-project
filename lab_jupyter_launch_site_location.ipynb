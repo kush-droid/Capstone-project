{
  "metadata": {
    "kernelspec": {
      "name": "python",
      "display_name": "Python (Pyodide)",
      "language": "python"
    },
    "language_info": {
      "codemirror_mode": {
        "name": "python",
        "version": 3
      },
      "file_extension": ".py",
      "mimetype": "text/x-python",
      "name": "python",
      "nbconvert_exporter": "python",
      "pygments_lexer": "ipython3",
      "version": "3.8"
    },
    "prev_pub_hash": "8d1bc511776f43dd0b8dc79c786c7d7c3dc95a02e3072a4ae3818ef8ed74a474"
  },
  "nbformat_minor": 4,
  "nbformat": 4,
  "cells": [
    {
      "cell_type": "markdown",
      "source": "<p style=\"text-align:center\">\n    <a href=\"https://skills.network/?utm_medium=Exinfluencer&utm_source=Exinfluencer&utm_content=000026UJ&utm_term=10006555&utm_id=NA-SkillsNetwork-Channel-SkillsNetworkCoursesIBMDS0321ENSkillsNetwork26802033-2022-01-01\" target=\"_blank\">\n    <img src=\"https://cf-courses-data.s3.us.cloud-object-storage.appdomain.cloud/assets/logos/SN_web_lightmode.png\" width=\"200\" alt=\"Skills Network Logo\">\n    </a>\n</p>\n",
      "metadata": {}
    },
    {
      "cell_type": "markdown",
      "source": "# **Launch Sites Locations Analysis with Folium**\n",
      "metadata": {}
    },
    {
      "cell_type": "markdown",
      "source": "Estimated time needed: **40** minutes\n",
      "metadata": {}
    },
    {
      "cell_type": "markdown",
      "source": "The launch success rate may depend on many factors such as payload mass, orbit type, and so on. It may also depend on the location and proximities of a launch site, i.e., the initial position of rocket trajectories. Finding an optimal location for building a launch site certainly involves many factors and hopefully we could discover some of the factors by analyzing the existing launch site locations.\n",
      "metadata": {}
    },
    {
      "cell_type": "markdown",
      "source": "In the previous exploratory data analysis labs, you have visualized the SpaceX launch dataset using `matplotlib` and `seaborn` and discovered some preliminary correlations between the launch site and success rates. In this lab, you will be performing more interactive visual analytics using `Folium`.\n",
      "metadata": {}
    },
    {
      "cell_type": "markdown",
      "source": "## Objectives\n",
      "metadata": {}
    },
    {
      "cell_type": "markdown",
      "source": "This lab contains the following tasks:\n\n*   **TASK 1:** Mark all launch sites on a map\n*   **TASK 2:** Mark the success/failed launches for each site on the map\n*   **TASK 3:** Calculate the distances between a launch site to its proximities\n\nAfter completed the above tasks, you should be able to find some geographical patterns about launch sites.\n",
      "metadata": {}
    },
    {
      "cell_type": "markdown",
      "source": "Let's first import required Python packages for this lab:\n",
      "metadata": {}
    },
    {
      "cell_type": "code",
      "source": "import piplite\nawait piplite.install(['folium'])\nawait piplite.install(['pandas'])\n",
      "metadata": {
        "trusted": true
      },
      "outputs": [],
      "execution_count": 4
    },
    {
      "cell_type": "code",
      "source": "import folium\nimport pandas as pd",
      "metadata": {
        "trusted": true
      },
      "outputs": [],
      "execution_count": 5
    },
    {
      "cell_type": "code",
      "source": "# Import folium MarkerCluster plugin\nfrom folium.plugins import MarkerCluster\n# Import folium MousePosition plugin\nfrom folium.plugins import MousePosition\n# Import folium DivIcon plugin\nfrom folium.features import DivIcon",
      "metadata": {
        "trusted": true
      },
      "outputs": [],
      "execution_count": 6
    },
    {
      "cell_type": "markdown",
      "source": "If you need to refresh your memory about folium, you may download and refer to this previous folium lab:\n",
      "metadata": {}
    },
    {
      "cell_type": "markdown",
      "source": "[Generating Maps with Python](https://cf-courses-data.s3.us.cloud-object-storage.appdomain.cloud/IBM-DS0321EN-SkillsNetwork/labs/module\\_3/DV0101EN-3-5-1-Generating-Maps-in-Python-py-v2.0.ipynb)\n",
      "metadata": {}
    },
    {
      "cell_type": "code",
      "source": "## Task 1: Mark all launch sites on a map\n\nmap_center = [spacex_df['Lat'].mean(), spacex_df['Long'].mean()]\nmymap = folium.Map(location=map_center, zoom_start=5)\n\n# Add markers for each launch site\nfor index, row in spacex_df.iterrows():\n    folium.Marker(\n        location=[row['Lat'], row['Long']],\n        popup=row['Launch Site'],\n        icon=folium.Icon(icon='info-sign')\n    ).add_to(mymap)\n\n# Display the map\nmymap.save('launch_sites_map.html')",
      "metadata": {
        "trusted": true
      },
      "outputs": [],
      "execution_count": 14
    },
    {
      "cell_type": "markdown",
      "source": "First, let's try to add each site's location on a map using site's latitude and longitude coordinates\n",
      "metadata": {}
    },
    {
      "cell_type": "markdown",
      "source": "The following dataset with the name `spacex_launch_geo.csv` is an augmented dataset with latitude and longitude added for each site.\n",
      "metadata": {}
    },
    {
      "cell_type": "code",
      "source": "# Download and read the `spacex_launch_geo.csv`\nfrom js import fetch\nimport io\n\nURL = 'https://cf-courses-data.s3.us.cloud-object-storage.appdomain.cloud/IBM-DS0321EN-SkillsNetwork/datasets/spacex_launch_geo.csv'\nresp = await fetch(URL)\nspacex_csv_file = io.BytesIO((await resp.arrayBuffer()).to_py())\nspacex_df=pd.read_csv(spacex_csv_file)",
      "metadata": {
        "trusted": true
      },
      "outputs": [],
      "execution_count": 15
    },
    {
      "cell_type": "markdown",
      "source": "Now, you can take a look at what are the coordinates for each site.\n",
      "metadata": {}
    },
    {
      "cell_type": "code",
      "source": "# Select relevant sub-columns: `Launch Site`, `Lat(Latitude)`, `Long(Longitude)`, `class`\nspacex_df = spacex_df[['Launch Site', 'Lat', 'Long', 'class']]\nlaunch_sites_df = spacex_df.groupby(['Launch Site'], as_index=False).first()\nlaunch_sites_df = launch_sites_df[['Launch Site', 'Lat', 'Long']]\nlaunch_sites_df",
      "metadata": {
        "trusted": true
      },
      "outputs": [
        {
          "execution_count": 16,
          "output_type": "execute_result",
          "data": {
            "text/plain": "    Launch Site        Lat        Long\n0   CCAFS LC-40  28.562302  -80.577356\n1  CCAFS SLC-40  28.563197  -80.576820\n2    KSC LC-39A  28.573255  -80.646895\n3   VAFB SLC-4E  34.632834 -120.610745",
            "text/html": "<div>\n<style scoped>\n    .dataframe tbody tr th:only-of-type {\n        vertical-align: middle;\n    }\n\n    .dataframe tbody tr th {\n        vertical-align: top;\n    }\n\n    .dataframe thead th {\n        text-align: right;\n    }\n</style>\n<table border=\"1\" class=\"dataframe\">\n  <thead>\n    <tr style=\"text-align: right;\">\n      <th></th>\n      <th>Launch Site</th>\n      <th>Lat</th>\n      <th>Long</th>\n    </tr>\n  </thead>\n  <tbody>\n    <tr>\n      <th>0</th>\n      <td>CCAFS LC-40</td>\n      <td>28.562302</td>\n      <td>-80.577356</td>\n    </tr>\n    <tr>\n      <th>1</th>\n      <td>CCAFS SLC-40</td>\n      <td>28.563197</td>\n      <td>-80.576820</td>\n    </tr>\n    <tr>\n      <th>2</th>\n      <td>KSC LC-39A</td>\n      <td>28.573255</td>\n      <td>-80.646895</td>\n    </tr>\n    <tr>\n      <th>3</th>\n      <td>VAFB SLC-4E</td>\n      <td>34.632834</td>\n      <td>-120.610745</td>\n    </tr>\n  </tbody>\n</table>\n</div>"
          },
          "metadata": {}
        }
      ],
      "execution_count": 16
    },
    {
      "cell_type": "markdown",
      "source": "Above coordinates are just plain numbers that can not give you any intuitive insights about where are those launch sites. If you are very good at geography, you can interpret those numbers directly in your mind. If not, that's fine too. Let's visualize those locations by pinning them on a map.\n",
      "metadata": {}
    },
    {
      "cell_type": "markdown",
      "source": "We first need to create a folium `Map` object, with an initial center location to be NASA Johnson Space Center at Houston, Texas.\n",
      "metadata": {}
    },
    {
      "cell_type": "code",
      "source": "# Start location is NASA Johnson Space Center\nnasa_coordinate = [29.559684888503615, -95.0830971930759]\nsite_map = folium.Map(location=nasa_coordinate, zoom_start=10)",
      "metadata": {
        "trusted": true
      },
      "outputs": [],
      "execution_count": 10
    },
    {
      "cell_type": "markdown",
      "source": "We could use `folium.Circle` to add a highlighted circle area with a text label on a specific coordinate. For example,\n",
      "metadata": {}
    },
    {
      "cell_type": "code",
      "source": "# Create a blue circle at NASA Johnson Space Center's coordinate with a popup label showing its name\ncircle = folium.Circle(nasa_coordinate, radius=1000, color='#d35400', fill=True).add_child(folium.Popup('NASA Johnson Space Center'))\n# Create a blue circle at NASA Johnson Space Center's coordinate with a icon showing its name\nmarker = folium.map.Marker(\n    nasa_coordinate,\n    # Create an icon as a text label\n    icon=DivIcon(\n        icon_size=(20,20),\n        icon_anchor=(0,0),\n        html='<div style=\"font-size: 12; color:#d35400;\"><b>%s</b></div>' % 'NASA JSC',\n        )\n    )\nsite_map.add_child(circle)\nsite_map.add_child(marker)",
      "metadata": {
        "trusted": true
      },
      "outputs": [
        {
          "execution_count": 11,
          "output_type": "execute_result",
          "data": {
            "text/plain": "<folium.folium.Map at 0x61c0ce8>",
            "text/html": "<div style=\"width:100%;\"><div style=\"position:relative;width:100%;height:0;padding-bottom:60%;\"><span style=\"color:#565656\">Make this Notebook Trusted to load map: File -> Trust Notebook</span><iframe srcdoc=\"&lt;!DOCTYPE html&gt;\n&lt;html&gt;\n&lt;head&gt;\n    \n    &lt;meta http-equiv=&quot;content-type&quot; content=&quot;text/html; charset=UTF-8&quot; /&gt;\n    \n        &lt;script&gt;\n            L_NO_TOUCH = false;\n            L_DISABLE_3D = false;\n        &lt;/script&gt;\n    \n    &lt;style&gt;html, body {width: 100%;height: 100%;margin: 0;padding: 0;}&lt;/style&gt;\n    &lt;style&gt;#map {position:absolute;top:0;bottom:0;right:0;left:0;}&lt;/style&gt;\n    &lt;script src=&quot;https://cdn.jsdelivr.net/npm/leaflet@1.9.3/dist/leaflet.js&quot;&gt;&lt;/script&gt;\n    &lt;script src=&quot;https://code.jquery.com/jquery-3.7.1.min.js&quot;&gt;&lt;/script&gt;\n    &lt;script src=&quot;https://cdn.jsdelivr.net/npm/bootstrap@5.2.2/dist/js/bootstrap.bundle.min.js&quot;&gt;&lt;/script&gt;\n    &lt;script src=&quot;https://cdnjs.cloudflare.com/ajax/libs/Leaflet.awesome-markers/2.0.2/leaflet.awesome-markers.js&quot;&gt;&lt;/script&gt;\n    &lt;link rel=&quot;stylesheet&quot; href=&quot;https://cdn.jsdelivr.net/npm/leaflet@1.9.3/dist/leaflet.css&quot;/&gt;\n    &lt;link rel=&quot;stylesheet&quot; href=&quot;https://cdn.jsdelivr.net/npm/bootstrap@5.2.2/dist/css/bootstrap.min.css&quot;/&gt;\n    &lt;link rel=&quot;stylesheet&quot; href=&quot;https://netdna.bootstrapcdn.com/bootstrap/3.0.0/css/bootstrap-glyphicons.css&quot;/&gt;\n    &lt;link rel=&quot;stylesheet&quot; href=&quot;https://cdn.jsdelivr.net/npm/@fortawesome/fontawesome-free@6.2.0/css/all.min.css&quot;/&gt;\n    &lt;link rel=&quot;stylesheet&quot; href=&quot;https://cdnjs.cloudflare.com/ajax/libs/Leaflet.awesome-markers/2.0.2/leaflet.awesome-markers.css&quot;/&gt;\n    &lt;link rel=&quot;stylesheet&quot; href=&quot;https://cdn.jsdelivr.net/gh/python-visualization/folium/folium/templates/leaflet.awesome.rotate.min.css&quot;/&gt;\n    \n            &lt;meta name=&quot;viewport&quot; content=&quot;width=device-width,\n                initial-scale=1.0, maximum-scale=1.0, user-scalable=no&quot; /&gt;\n            &lt;style&gt;\n                #map_2207258f6c99d2728dcc88eeffbbc8d6 {\n                    position: relative;\n                    width: 100.0%;\n                    height: 100.0%;\n                    left: 0.0%;\n                    top: 0.0%;\n                }\n                .leaflet-container { font-size: 1rem; }\n            &lt;/style&gt;\n        \n&lt;/head&gt;\n&lt;body&gt;\n    \n    \n            &lt;div class=&quot;folium-map&quot; id=&quot;map_2207258f6c99d2728dcc88eeffbbc8d6&quot; &gt;&lt;/div&gt;\n        \n&lt;/body&gt;\n&lt;script&gt;\n    \n    \n            var map_2207258f6c99d2728dcc88eeffbbc8d6 = L.map(\n                &quot;map_2207258f6c99d2728dcc88eeffbbc8d6&quot;,\n                {\n                    center: [29.559684888503615, -95.0830971930759],\n                    crs: L.CRS.EPSG3857,\n                    zoom: 10,\n                    zoomControl: true,\n                    preferCanvas: false,\n                }\n            );\n\n            \n\n        \n    \n            var tile_layer_c8db3fd445ae886ad619a3e7a32779a3 = L.tileLayer(\n                &quot;https://tile.openstreetmap.org/{z}/{x}/{y}.png&quot;,\n                {&quot;attribution&quot;: &quot;\\u0026copy; \\u003ca href=\\&quot;https://www.openstreetmap.org/copyright\\&quot;\\u003eOpenStreetMap\\u003c/a\\u003e contributors&quot;, &quot;detectRetina&quot;: false, &quot;maxNativeZoom&quot;: 19, &quot;maxZoom&quot;: 19, &quot;minZoom&quot;: 0, &quot;noWrap&quot;: false, &quot;opacity&quot;: 1, &quot;subdomains&quot;: &quot;abc&quot;, &quot;tms&quot;: false}\n            );\n        \n    \n            tile_layer_c8db3fd445ae886ad619a3e7a32779a3.addTo(map_2207258f6c99d2728dcc88eeffbbc8d6);\n        \n    \n            var circle_5bd78528d5bdcccfa6cd707c964b214b = L.circle(\n                [29.559684888503615, -95.0830971930759],\n                {&quot;bubblingMouseEvents&quot;: true, &quot;color&quot;: &quot;#d35400&quot;, &quot;dashArray&quot;: null, &quot;dashOffset&quot;: null, &quot;fill&quot;: true, &quot;fillColor&quot;: &quot;#d35400&quot;, &quot;fillOpacity&quot;: 0.2, &quot;fillRule&quot;: &quot;evenodd&quot;, &quot;lineCap&quot;: &quot;round&quot;, &quot;lineJoin&quot;: &quot;round&quot;, &quot;opacity&quot;: 1.0, &quot;radius&quot;: 1000, &quot;stroke&quot;: true, &quot;weight&quot;: 3}\n            ).addTo(map_2207258f6c99d2728dcc88eeffbbc8d6);\n        \n    \n        var popup_85661d1b6b4c9ec579c3b53de149054a = L.popup({&quot;maxWidth&quot;: &quot;100%&quot;});\n\n        \n            \n                var html_554150b028322acd62f13c4e2451e00c = $(`&lt;div id=&quot;html_554150b028322acd62f13c4e2451e00c&quot; style=&quot;width: 100.0%; height: 100.0%;&quot;&gt;NASA Johnson Space Center&lt;/div&gt;`)[0];\n                popup_85661d1b6b4c9ec579c3b53de149054a.setContent(html_554150b028322acd62f13c4e2451e00c);\n            \n        \n\n        circle_5bd78528d5bdcccfa6cd707c964b214b.bindPopup(popup_85661d1b6b4c9ec579c3b53de149054a)\n        ;\n\n        \n    \n    \n            var marker_0bbd5910961fde0f5fb8e8614d778225 = L.marker(\n                [29.559684888503615, -95.0830971930759],\n                {}\n            ).addTo(map_2207258f6c99d2728dcc88eeffbbc8d6);\n        \n    \n            var div_icon_a978696e7a60b34e6a549c6e34050892 = L.divIcon({&quot;className&quot;: &quot;empty&quot;, &quot;html&quot;: &quot;\\u003cdiv style=\\&quot;font-size: 12; color:#d35400;\\&quot;\\u003e\\u003cb\\u003eNASA JSC\\u003c/b\\u003e\\u003c/div\\u003e&quot;, &quot;iconAnchor&quot;: [0, 0], &quot;iconSize&quot;: [20, 20]});\n            marker_0bbd5910961fde0f5fb8e8614d778225.setIcon(div_icon_a978696e7a60b34e6a549c6e34050892);\n        \n&lt;/script&gt;\n&lt;/html&gt;\" style=\"position:absolute;width:100%;height:100%;left:0;top:0;border:none !important;\" allowfullscreen webkitallowfullscreen mozallowfullscreen></iframe></div></div>"
          },
          "metadata": {}
        }
      ],
      "execution_count": 11
    },
    {
      "cell_type": "markdown",
      "source": "and you should find a small yellow circle near the city of Houston and you can zoom-in to see a larger circle.\n",
      "metadata": {}
    },
    {
      "cell_type": "markdown",
      "source": "Now, let's add a circle for each launch site in data frame `launch_sites`\n",
      "metadata": {}
    },
    {
      "cell_type": "markdown",
      "source": "*TODO:*  Create and add `folium.Circle` and `folium.Marker` for each launch site on the site map\n",
      "metadata": {}
    },
    {
      "cell_type": "markdown",
      "source": "An example of folium.Circle:\n",
      "metadata": {}
    },
    {
      "cell_type": "markdown",
      "source": "`folium.Circle(coordinate, radius=1000, color='#000000', fill=True).add_child(folium.Popup(...))`\n",
      "metadata": {}
    },
    {
      "cell_type": "markdown",
      "source": "An example of folium.Marker:\n",
      "metadata": {}
    },
    {
      "cell_type": "markdown",
      "source": "`folium.map.Marker(coordinate, icon=DivIcon(icon_size=(20,20),icon_anchor=(0,0), html='<div style=\"font-size: 12; color:#d35400;\"><b>%s</b></div>' % 'label', ))`\n",
      "metadata": {}
    },
    {
      "cell_type": "code",
      "source": "# Initial the map\n# For each launch site, add a Circle object based on its coordinate (Lat, Long) values. In addition, add Launch site name as a popup label\nnasa_coordinate = [launch_sites_df['Lat'].mean(), launch_sites_df['Long'].mean()]\nsite_map = folium.Map(location=nasa_coordinate, zoom_start=5)\n\n# Add a Circle and Marker for each launch site\nfor _, row in launch_sites_df.iterrows():\n    coordinate = (row['Lat'], row['Long'])\n    site_name = row['Launch Site']\n    \n    # Add Circle\n    folium.Circle(\n        location=coordinate,\n        radius=1000,  # Radius in meters\n        color='#000000',  # Circle color\n        fill=True,\n        fill_color='#000000',  # Fill color\n        fill_opacity=0.2\n    ).add_child(folium.Popup(site_name)).add_to(site_map)\n    \n    # Add Marker\n    folium.Marker(\n        location=coordinate,\n        icon=DivIcon(\n            icon_size=(20, 20),\n            icon_anchor=(0, 0),\n            html=f'<div style=\"font-size: 12px; color:#d35400;\"><b>{site_name}</b></div>'\n        )\n    ).add_child(folium.Popup(site_name)).add_to(site_map)\n\n# Display the map\nsite_map",
      "metadata": {
        "trusted": true
      },
      "outputs": [
        {
          "execution_count": 18,
          "output_type": "execute_result",
          "data": {
            "text/plain": "<folium.folium.Map at 0x5f48810>",
            "text/html": "<div style=\"width:100%;\"><div style=\"position:relative;width:100%;height:0;padding-bottom:60%;\"><span style=\"color:#565656\">Make this Notebook Trusted to load map: File -> Trust Notebook</span><iframe srcdoc=\"&lt;!DOCTYPE html&gt;\n&lt;html&gt;\n&lt;head&gt;\n    \n    &lt;meta http-equiv=&quot;content-type&quot; content=&quot;text/html; charset=UTF-8&quot; /&gt;\n    \n        &lt;script&gt;\n            L_NO_TOUCH = false;\n            L_DISABLE_3D = false;\n        &lt;/script&gt;\n    \n    &lt;style&gt;html, body {width: 100%;height: 100%;margin: 0;padding: 0;}&lt;/style&gt;\n    &lt;style&gt;#map {position:absolute;top:0;bottom:0;right:0;left:0;}&lt;/style&gt;\n    &lt;script src=&quot;https://cdn.jsdelivr.net/npm/leaflet@1.9.3/dist/leaflet.js&quot;&gt;&lt;/script&gt;\n    &lt;script src=&quot;https://code.jquery.com/jquery-3.7.1.min.js&quot;&gt;&lt;/script&gt;\n    &lt;script src=&quot;https://cdn.jsdelivr.net/npm/bootstrap@5.2.2/dist/js/bootstrap.bundle.min.js&quot;&gt;&lt;/script&gt;\n    &lt;script src=&quot;https://cdnjs.cloudflare.com/ajax/libs/Leaflet.awesome-markers/2.0.2/leaflet.awesome-markers.js&quot;&gt;&lt;/script&gt;\n    &lt;link rel=&quot;stylesheet&quot; href=&quot;https://cdn.jsdelivr.net/npm/leaflet@1.9.3/dist/leaflet.css&quot;/&gt;\n    &lt;link rel=&quot;stylesheet&quot; href=&quot;https://cdn.jsdelivr.net/npm/bootstrap@5.2.2/dist/css/bootstrap.min.css&quot;/&gt;\n    &lt;link rel=&quot;stylesheet&quot; href=&quot;https://netdna.bootstrapcdn.com/bootstrap/3.0.0/css/bootstrap-glyphicons.css&quot;/&gt;\n    &lt;link rel=&quot;stylesheet&quot; href=&quot;https://cdn.jsdelivr.net/npm/@fortawesome/fontawesome-free@6.2.0/css/all.min.css&quot;/&gt;\n    &lt;link rel=&quot;stylesheet&quot; href=&quot;https://cdnjs.cloudflare.com/ajax/libs/Leaflet.awesome-markers/2.0.2/leaflet.awesome-markers.css&quot;/&gt;\n    &lt;link rel=&quot;stylesheet&quot; href=&quot;https://cdn.jsdelivr.net/gh/python-visualization/folium/folium/templates/leaflet.awesome.rotate.min.css&quot;/&gt;\n    \n            &lt;meta name=&quot;viewport&quot; content=&quot;width=device-width,\n                initial-scale=1.0, maximum-scale=1.0, user-scalable=no&quot; /&gt;\n            &lt;style&gt;\n                #map_2a4cc92e966d86abd126ab8df0303a06 {\n                    position: relative;\n                    width: 100.0%;\n                    height: 100.0%;\n                    left: 0.0%;\n                    top: 0.0%;\n                }\n                .leaflet-container { font-size: 1rem; }\n            &lt;/style&gt;\n        \n&lt;/head&gt;\n&lt;body&gt;\n    \n    \n            &lt;div class=&quot;folium-map&quot; id=&quot;map_2a4cc92e966d86abd126ab8df0303a06&quot; &gt;&lt;/div&gt;\n        \n&lt;/body&gt;\n&lt;script&gt;\n    \n    \n            var map_2a4cc92e966d86abd126ab8df0303a06 = L.map(\n                &quot;map_2a4cc92e966d86abd126ab8df0303a06&quot;,\n                {\n                    center: [30.08289697, -90.602954325],\n                    crs: L.CRS.EPSG3857,\n                    zoom: 5,\n                    zoomControl: true,\n                    preferCanvas: false,\n                }\n            );\n\n            \n\n        \n    \n            var tile_layer_51b5c807a5fe445de7dd293401d1f809 = L.tileLayer(\n                &quot;https://tile.openstreetmap.org/{z}/{x}/{y}.png&quot;,\n                {&quot;attribution&quot;: &quot;\\u0026copy; \\u003ca href=\\&quot;https://www.openstreetmap.org/copyright\\&quot;\\u003eOpenStreetMap\\u003c/a\\u003e contributors&quot;, &quot;detectRetina&quot;: false, &quot;maxNativeZoom&quot;: 19, &quot;maxZoom&quot;: 19, &quot;minZoom&quot;: 0, &quot;noWrap&quot;: false, &quot;opacity&quot;: 1, &quot;subdomains&quot;: &quot;abc&quot;, &quot;tms&quot;: false}\n            );\n        \n    \n            tile_layer_51b5c807a5fe445de7dd293401d1f809.addTo(map_2a4cc92e966d86abd126ab8df0303a06);\n        \n    \n            var circle_25fdc92494a718a2103d11452c604bca = L.circle(\n                [28.56230197, -80.57735648],\n                {&quot;bubblingMouseEvents&quot;: true, &quot;color&quot;: &quot;#000000&quot;, &quot;dashArray&quot;: null, &quot;dashOffset&quot;: null, &quot;fill&quot;: true, &quot;fillColor&quot;: &quot;#000000&quot;, &quot;fillOpacity&quot;: 0.2, &quot;fillRule&quot;: &quot;evenodd&quot;, &quot;lineCap&quot;: &quot;round&quot;, &quot;lineJoin&quot;: &quot;round&quot;, &quot;opacity&quot;: 1.0, &quot;radius&quot;: 1000, &quot;stroke&quot;: true, &quot;weight&quot;: 3}\n            ).addTo(map_2a4cc92e966d86abd126ab8df0303a06);\n        \n    \n        var popup_da7c30d13c86848f366e75af8809079e = L.popup({&quot;maxWidth&quot;: &quot;100%&quot;});\n\n        \n            \n                var html_03ddb8da4b8237f297a0e12120283c81 = $(`&lt;div id=&quot;html_03ddb8da4b8237f297a0e12120283c81&quot; style=&quot;width: 100.0%; height: 100.0%;&quot;&gt;CCAFS LC-40&lt;/div&gt;`)[0];\n                popup_da7c30d13c86848f366e75af8809079e.setContent(html_03ddb8da4b8237f297a0e12120283c81);\n            \n        \n\n        circle_25fdc92494a718a2103d11452c604bca.bindPopup(popup_da7c30d13c86848f366e75af8809079e)\n        ;\n\n        \n    \n    \n            var marker_8eb274b0bff95710800fce51716c6906 = L.marker(\n                [28.56230197, -80.57735648],\n                {}\n            ).addTo(map_2a4cc92e966d86abd126ab8df0303a06);\n        \n    \n            var div_icon_0a67fced9f84766d0cb26c2bc7629555 = L.divIcon({&quot;className&quot;: &quot;empty&quot;, &quot;html&quot;: &quot;\\u003cdiv style=\\&quot;font-size: 12px; color:#d35400;\\&quot;\\u003e\\u003cb\\u003eCCAFS LC-40\\u003c/b\\u003e\\u003c/div\\u003e&quot;, &quot;iconAnchor&quot;: [0, 0], &quot;iconSize&quot;: [20, 20]});\n            marker_8eb274b0bff95710800fce51716c6906.setIcon(div_icon_0a67fced9f84766d0cb26c2bc7629555);\n        \n    \n        var popup_db007c918b6f20bd98ec7ef6d1835ea7 = L.popup({&quot;maxWidth&quot;: &quot;100%&quot;});\n\n        \n            \n                var html_54a914ded1555f4e946ff2f01e3553db = $(`&lt;div id=&quot;html_54a914ded1555f4e946ff2f01e3553db&quot; style=&quot;width: 100.0%; height: 100.0%;&quot;&gt;CCAFS LC-40&lt;/div&gt;`)[0];\n                popup_db007c918b6f20bd98ec7ef6d1835ea7.setContent(html_54a914ded1555f4e946ff2f01e3553db);\n            \n        \n\n        marker_8eb274b0bff95710800fce51716c6906.bindPopup(popup_db007c918b6f20bd98ec7ef6d1835ea7)\n        ;\n\n        \n    \n    \n            var circle_ed2c5aa029e0353ca845af4fce8b7566 = L.circle(\n                [28.56319718, -80.57682003],\n                {&quot;bubblingMouseEvents&quot;: true, &quot;color&quot;: &quot;#000000&quot;, &quot;dashArray&quot;: null, &quot;dashOffset&quot;: null, &quot;fill&quot;: true, &quot;fillColor&quot;: &quot;#000000&quot;, &quot;fillOpacity&quot;: 0.2, &quot;fillRule&quot;: &quot;evenodd&quot;, &quot;lineCap&quot;: &quot;round&quot;, &quot;lineJoin&quot;: &quot;round&quot;, &quot;opacity&quot;: 1.0, &quot;radius&quot;: 1000, &quot;stroke&quot;: true, &quot;weight&quot;: 3}\n            ).addTo(map_2a4cc92e966d86abd126ab8df0303a06);\n        \n    \n        var popup_bc3bda5f59b90365ef6c30877a7bbb77 = L.popup({&quot;maxWidth&quot;: &quot;100%&quot;});\n\n        \n            \n                var html_3507e42cf3347cb3d9c542d71c12ad34 = $(`&lt;div id=&quot;html_3507e42cf3347cb3d9c542d71c12ad34&quot; style=&quot;width: 100.0%; height: 100.0%;&quot;&gt;CCAFS SLC-40&lt;/div&gt;`)[0];\n                popup_bc3bda5f59b90365ef6c30877a7bbb77.setContent(html_3507e42cf3347cb3d9c542d71c12ad34);\n            \n        \n\n        circle_ed2c5aa029e0353ca845af4fce8b7566.bindPopup(popup_bc3bda5f59b90365ef6c30877a7bbb77)\n        ;\n\n        \n    \n    \n            var marker_1ca474fc5e05aeb7790a1e08b64a0e0c = L.marker(\n                [28.56319718, -80.57682003],\n                {}\n            ).addTo(map_2a4cc92e966d86abd126ab8df0303a06);\n        \n    \n            var div_icon_320c254ccd0d86a761042e724ca40d78 = L.divIcon({&quot;className&quot;: &quot;empty&quot;, &quot;html&quot;: &quot;\\u003cdiv style=\\&quot;font-size: 12px; color:#d35400;\\&quot;\\u003e\\u003cb\\u003eCCAFS SLC-40\\u003c/b\\u003e\\u003c/div\\u003e&quot;, &quot;iconAnchor&quot;: [0, 0], &quot;iconSize&quot;: [20, 20]});\n            marker_1ca474fc5e05aeb7790a1e08b64a0e0c.setIcon(div_icon_320c254ccd0d86a761042e724ca40d78);\n        \n    \n        var popup_2d1094209f64f12373a9ab8aae86edb9 = L.popup({&quot;maxWidth&quot;: &quot;100%&quot;});\n\n        \n            \n                var html_7fd8568eea383626bc0387eeb9aedb02 = $(`&lt;div id=&quot;html_7fd8568eea383626bc0387eeb9aedb02&quot; style=&quot;width: 100.0%; height: 100.0%;&quot;&gt;CCAFS SLC-40&lt;/div&gt;`)[0];\n                popup_2d1094209f64f12373a9ab8aae86edb9.setContent(html_7fd8568eea383626bc0387eeb9aedb02);\n            \n        \n\n        marker_1ca474fc5e05aeb7790a1e08b64a0e0c.bindPopup(popup_2d1094209f64f12373a9ab8aae86edb9)\n        ;\n\n        \n    \n    \n            var circle_f493f5d7afb74077089f49d997e66e66 = L.circle(\n                [28.57325457, -80.64689529],\n                {&quot;bubblingMouseEvents&quot;: true, &quot;color&quot;: &quot;#000000&quot;, &quot;dashArray&quot;: null, &quot;dashOffset&quot;: null, &quot;fill&quot;: true, &quot;fillColor&quot;: &quot;#000000&quot;, &quot;fillOpacity&quot;: 0.2, &quot;fillRule&quot;: &quot;evenodd&quot;, &quot;lineCap&quot;: &quot;round&quot;, &quot;lineJoin&quot;: &quot;round&quot;, &quot;opacity&quot;: 1.0, &quot;radius&quot;: 1000, &quot;stroke&quot;: true, &quot;weight&quot;: 3}\n            ).addTo(map_2a4cc92e966d86abd126ab8df0303a06);\n        \n    \n        var popup_dd6da6a31c930e7c805064e1e3091ff5 = L.popup({&quot;maxWidth&quot;: &quot;100%&quot;});\n\n        \n            \n                var html_0900671751da93e498af8c3974390982 = $(`&lt;div id=&quot;html_0900671751da93e498af8c3974390982&quot; style=&quot;width: 100.0%; height: 100.0%;&quot;&gt;KSC LC-39A&lt;/div&gt;`)[0];\n                popup_dd6da6a31c930e7c805064e1e3091ff5.setContent(html_0900671751da93e498af8c3974390982);\n            \n        \n\n        circle_f493f5d7afb74077089f49d997e66e66.bindPopup(popup_dd6da6a31c930e7c805064e1e3091ff5)\n        ;\n\n        \n    \n    \n            var marker_8fb42b2a6177fc94a1ce16b70928f8bd = L.marker(\n                [28.57325457, -80.64689529],\n                {}\n            ).addTo(map_2a4cc92e966d86abd126ab8df0303a06);\n        \n    \n            var div_icon_84a6256ea7b38e38986762838557b242 = L.divIcon({&quot;className&quot;: &quot;empty&quot;, &quot;html&quot;: &quot;\\u003cdiv style=\\&quot;font-size: 12px; color:#d35400;\\&quot;\\u003e\\u003cb\\u003eKSC LC-39A\\u003c/b\\u003e\\u003c/div\\u003e&quot;, &quot;iconAnchor&quot;: [0, 0], &quot;iconSize&quot;: [20, 20]});\n            marker_8fb42b2a6177fc94a1ce16b70928f8bd.setIcon(div_icon_84a6256ea7b38e38986762838557b242);\n        \n    \n        var popup_c74939be95c5840ff2fcf701f8c69807 = L.popup({&quot;maxWidth&quot;: &quot;100%&quot;});\n\n        \n            \n                var html_9a09660761d4d560e9084c5eec24b75e = $(`&lt;div id=&quot;html_9a09660761d4d560e9084c5eec24b75e&quot; style=&quot;width: 100.0%; height: 100.0%;&quot;&gt;KSC LC-39A&lt;/div&gt;`)[0];\n                popup_c74939be95c5840ff2fcf701f8c69807.setContent(html_9a09660761d4d560e9084c5eec24b75e);\n            \n        \n\n        marker_8fb42b2a6177fc94a1ce16b70928f8bd.bindPopup(popup_c74939be95c5840ff2fcf701f8c69807)\n        ;\n\n        \n    \n    \n            var circle_8c9d9d81f8429df846c999e2f7cc4dd4 = L.circle(\n                [34.63283416, -120.6107455],\n                {&quot;bubblingMouseEvents&quot;: true, &quot;color&quot;: &quot;#000000&quot;, &quot;dashArray&quot;: null, &quot;dashOffset&quot;: null, &quot;fill&quot;: true, &quot;fillColor&quot;: &quot;#000000&quot;, &quot;fillOpacity&quot;: 0.2, &quot;fillRule&quot;: &quot;evenodd&quot;, &quot;lineCap&quot;: &quot;round&quot;, &quot;lineJoin&quot;: &quot;round&quot;, &quot;opacity&quot;: 1.0, &quot;radius&quot;: 1000, &quot;stroke&quot;: true, &quot;weight&quot;: 3}\n            ).addTo(map_2a4cc92e966d86abd126ab8df0303a06);\n        \n    \n        var popup_2d8ed61b0f529e17c325792ff5f17f90 = L.popup({&quot;maxWidth&quot;: &quot;100%&quot;});\n\n        \n            \n                var html_92be3ba168dc272a7b89ee24fe0a0b7b = $(`&lt;div id=&quot;html_92be3ba168dc272a7b89ee24fe0a0b7b&quot; style=&quot;width: 100.0%; height: 100.0%;&quot;&gt;VAFB SLC-4E&lt;/div&gt;`)[0];\n                popup_2d8ed61b0f529e17c325792ff5f17f90.setContent(html_92be3ba168dc272a7b89ee24fe0a0b7b);\n            \n        \n\n        circle_8c9d9d81f8429df846c999e2f7cc4dd4.bindPopup(popup_2d8ed61b0f529e17c325792ff5f17f90)\n        ;\n\n        \n    \n    \n            var marker_5674cbf4d9f4a71f175ed3a27a3f109a = L.marker(\n                [34.63283416, -120.6107455],\n                {}\n            ).addTo(map_2a4cc92e966d86abd126ab8df0303a06);\n        \n    \n            var div_icon_9e9bcf28fc074310e9aef1651fe1212a = L.divIcon({&quot;className&quot;: &quot;empty&quot;, &quot;html&quot;: &quot;\\u003cdiv style=\\&quot;font-size: 12px; color:#d35400;\\&quot;\\u003e\\u003cb\\u003eVAFB SLC-4E\\u003c/b\\u003e\\u003c/div\\u003e&quot;, &quot;iconAnchor&quot;: [0, 0], &quot;iconSize&quot;: [20, 20]});\n            marker_5674cbf4d9f4a71f175ed3a27a3f109a.setIcon(div_icon_9e9bcf28fc074310e9aef1651fe1212a);\n        \n    \n        var popup_c35e50477a0abdac3506f6019dcc3ab4 = L.popup({&quot;maxWidth&quot;: &quot;100%&quot;});\n\n        \n            \n                var html_9a510ebfa7c6529ad470a01d3f3a5214 = $(`&lt;div id=&quot;html_9a510ebfa7c6529ad470a01d3f3a5214&quot; style=&quot;width: 100.0%; height: 100.0%;&quot;&gt;VAFB SLC-4E&lt;/div&gt;`)[0];\n                popup_c35e50477a0abdac3506f6019dcc3ab4.setContent(html_9a510ebfa7c6529ad470a01d3f3a5214);\n            \n        \n\n        marker_5674cbf4d9f4a71f175ed3a27a3f109a.bindPopup(popup_c35e50477a0abdac3506f6019dcc3ab4)\n        ;\n\n        \n    \n&lt;/script&gt;\n&lt;/html&gt;\" style=\"position:absolute;width:100%;height:100%;left:0;top:0;border:none !important;\" allowfullscreen webkitallowfullscreen mozallowfullscreen></iframe></div></div>"
          },
          "metadata": {}
        }
      ],
      "execution_count": 18
    },
    {
      "cell_type": "markdown",
      "source": "The generated map with marked launch sites should look similar to the following:\n",
      "metadata": {}
    },
    {
      "cell_type": "markdown",
      "source": "<center>\n    <img src=\"https://cf-courses-data.s3.us.cloud-object-storage.appdomain.cloud/IBM-DS0321EN-SkillsNetwork/labs/module_3/images/launch_site_markers.png\">\n</center>\n",
      "metadata": {}
    },
    {
      "cell_type": "markdown",
      "source": "Now, you can explore the map by zoom-in/out the marked areas\n, and try to answer the following questions:\n\n*   Are all launch sites in proximity to the Equator line?\n*   Are all launch sites in very close proximity to the coast?\n\nAlso please try to explain your findings.\n",
      "metadata": {}
    },
    {
      "cell_type": "code",
      "source": "# Task 2: Mark the success/failed launches for each site on the map\nmap_center = [spacex_df['Lat'].mean(), spacex_df['Long'].mean()]\nmymap = folium.Map(location=map_center, zoom_start=5)\n\n# Define colors for different outcomes\ncolors = {'Success': 'green', 'Failure': 'red'}\n\n# Add markers for each launch site\nfor index, row in spacex_df.iterrows():\n    folium.Marker(\n        location=[row['Lat'], row['Long']]\n    ).add_to(mymap)\n\n# Save the map to an HTML file\nmymap.save('launch_sites_with_outcomes_map.html')",
      "metadata": {
        "trusted": true
      },
      "outputs": [],
      "execution_count": 19
    },
    {
      "cell_type": "markdown",
      "source": "Next, let's try to enhance the map by adding the launch outcomes for each site, and see which sites have high success rates.\nRecall that data frame spacex_df has detailed launch records, and the `class` column indicates if this launch was successful or not\n",
      "metadata": {}
    },
    {
      "cell_type": "code",
      "source": "spacex_df.tail(10)",
      "metadata": {
        "trusted": true
      },
      "outputs": [
        {
          "execution_count": 20,
          "output_type": "execute_result",
          "data": {
            "text/plain": "     Launch Site        Lat       Long  class\n46    KSC LC-39A  28.573255 -80.646895      1\n47    KSC LC-39A  28.573255 -80.646895      1\n48    KSC LC-39A  28.573255 -80.646895      1\n49  CCAFS SLC-40  28.563197 -80.576820      1\n50  CCAFS SLC-40  28.563197 -80.576820      1\n51  CCAFS SLC-40  28.563197 -80.576820      0\n52  CCAFS SLC-40  28.563197 -80.576820      0\n53  CCAFS SLC-40  28.563197 -80.576820      0\n54  CCAFS SLC-40  28.563197 -80.576820      1\n55  CCAFS SLC-40  28.563197 -80.576820      0",
            "text/html": "<div>\n<style scoped>\n    .dataframe tbody tr th:only-of-type {\n        vertical-align: middle;\n    }\n\n    .dataframe tbody tr th {\n        vertical-align: top;\n    }\n\n    .dataframe thead th {\n        text-align: right;\n    }\n</style>\n<table border=\"1\" class=\"dataframe\">\n  <thead>\n    <tr style=\"text-align: right;\">\n      <th></th>\n      <th>Launch Site</th>\n      <th>Lat</th>\n      <th>Long</th>\n      <th>class</th>\n    </tr>\n  </thead>\n  <tbody>\n    <tr>\n      <th>46</th>\n      <td>KSC LC-39A</td>\n      <td>28.573255</td>\n      <td>-80.646895</td>\n      <td>1</td>\n    </tr>\n    <tr>\n      <th>47</th>\n      <td>KSC LC-39A</td>\n      <td>28.573255</td>\n      <td>-80.646895</td>\n      <td>1</td>\n    </tr>\n    <tr>\n      <th>48</th>\n      <td>KSC LC-39A</td>\n      <td>28.573255</td>\n      <td>-80.646895</td>\n      <td>1</td>\n    </tr>\n    <tr>\n      <th>49</th>\n      <td>CCAFS SLC-40</td>\n      <td>28.563197</td>\n      <td>-80.576820</td>\n      <td>1</td>\n    </tr>\n    <tr>\n      <th>50</th>\n      <td>CCAFS SLC-40</td>\n      <td>28.563197</td>\n      <td>-80.576820</td>\n      <td>1</td>\n    </tr>\n    <tr>\n      <th>51</th>\n      <td>CCAFS SLC-40</td>\n      <td>28.563197</td>\n      <td>-80.576820</td>\n      <td>0</td>\n    </tr>\n    <tr>\n      <th>52</th>\n      <td>CCAFS SLC-40</td>\n      <td>28.563197</td>\n      <td>-80.576820</td>\n      <td>0</td>\n    </tr>\n    <tr>\n      <th>53</th>\n      <td>CCAFS SLC-40</td>\n      <td>28.563197</td>\n      <td>-80.576820</td>\n      <td>0</td>\n    </tr>\n    <tr>\n      <th>54</th>\n      <td>CCAFS SLC-40</td>\n      <td>28.563197</td>\n      <td>-80.576820</td>\n      <td>1</td>\n    </tr>\n    <tr>\n      <th>55</th>\n      <td>CCAFS SLC-40</td>\n      <td>28.563197</td>\n      <td>-80.576820</td>\n      <td>0</td>\n    </tr>\n  </tbody>\n</table>\n</div>"
          },
          "metadata": {}
        }
      ],
      "execution_count": 20
    },
    {
      "cell_type": "markdown",
      "source": "Next, let's create markers for all launch records.\nIf a launch was successful `(class=1)`, then we use a green marker and if a launch was failed, we use a red marker `(class=0)`\n",
      "metadata": {}
    },
    {
      "cell_type": "markdown",
      "source": "Note that a launch only happens in one of the four launch sites, which means many launch records will have the exact same coordinate. Marker clusters can be a good way to simplify a map containing many markers having the same coordinate.\n",
      "metadata": {}
    },
    {
      "cell_type": "markdown",
      "source": "Let's first create a `MarkerCluster` object\n",
      "metadata": {}
    },
    {
      "cell_type": "code",
      "source": "marker_cluster = MarkerCluster()\n",
      "metadata": {
        "trusted": true
      },
      "outputs": [],
      "execution_count": 21
    },
    {
      "cell_type": "markdown",
      "source": "*TODO:* Create a new column in `launch_sites` dataframe called `marker_color` to store the marker colors based on the `class` value\n",
      "metadata": {}
    },
    {
      "cell_type": "code",
      "source": "\n# Apply a function to check the value of `class` column\n# If class=1, marker_color value will be green\n# If class=0, marker_color value will be red\ndef get_marker_color(class_value):\n    return 'green' if class_value == 1 else 'red'\n\n# Apply the function to create the 'marker_color' column\nlaunch_sites_df['marker_color'] = spacex_df['class'].apply(get_marker_color)\n\n# Display the DataFrame to verify the new column\nprint(launch_sites_df)\n",
      "metadata": {
        "trusted": true
      },
      "outputs": [
        {
          "name": "stdout",
          "text": "    Launch Site        Lat        Long marker_color\n0   CCAFS LC-40  28.562302  -80.577356          red\n1  CCAFS SLC-40  28.563197  -80.576820          red\n2    KSC LC-39A  28.573255  -80.646895          red\n3   VAFB SLC-4E  34.632834 -120.610745          red\n",
          "output_type": "stream"
        }
      ],
      "execution_count": 28
    },
    {
      "cell_type": "markdown",
      "source": "*TODO:* For each launch result in `spacex_df` data frame, add a `folium.Marker` to `marker_cluster`\n",
      "metadata": {}
    },
    {
      "cell_type": "code",
      "source": "# Add marker_cluster to current site_map\nfor index, record in spacex_df.iterrows():\n    # Determine marker color\n    marker_color = get_marker_color(record['class'])\n    \n    # Create Marker object with its coordinate and customized icon\n    marker = folium.Marker(\n        location=[record['Lat'], record['Long']]\n    )\n    \n    # Add the marker to the marker cluster\n    marker_cluster.add_child(marker)\n\n# Add the marker cluster to the map\nsite_map.add_child(marker_cluster)\n\n# Save the map to an HTML file\nsite_map.save('launch_sites_map_with_outcomes.html')",
      "metadata": {
        "trusted": true
      },
      "outputs": [],
      "execution_count": 29
    },
    {
      "cell_type": "markdown",
      "source": "Your updated map may look like the following screenshots:\n",
      "metadata": {}
    },
    {
      "cell_type": "markdown",
      "source": "<center>\n    <img src=\"https://cf-courses-data.s3.us.cloud-object-storage.appdomain.cloud/IBM-DS0321EN-SkillsNetwork/labs/module_3/images/launch_site_marker_cluster.png\">\n</center>\n",
      "metadata": {}
    },
    {
      "cell_type": "markdown",
      "source": "<center>\n    <img src=\"https://cf-courses-data.s3.us.cloud-object-storage.appdomain.cloud/IBM-DS0321EN-SkillsNetwork/labs/module_3/images/launch_site_marker_cluster_zoomed.png\">\n</center>\n",
      "metadata": {}
    },
    {
      "cell_type": "markdown",
      "source": "From the color-labeled markers in marker clusters, you should be able to easily identify which launch sites have relatively high success rates.\n",
      "metadata": {}
    },
    {
      "cell_type": "code",
      "source": "# TASK 3: Calculate the distances between a launch site to its proximities\nimport numpy as np\n\n\nlaunch_sites_df['Lat'] = np.radians(launch_sites_df['Lat'])\nlaunch_sites_df['Long'] = np.radians(launch_sites_df['Long'])\n\n# Function to calculate the Haversine distance\ndef haversine_np(lat1, lon1, lat2, lon2):\n    R = 6371  # Radius of Earth in kilometers\n    delta_lat = lat2 - lat1\n    delta_lon = lon2 - lon1\n    \n    a = np.sin(delta_lat / 2)**2 + np.cos(lat1) * np.cos(lat2) * np.sin(delta_lon / 2)**2\n    c = 2 * np.arctan2(np.sqrt(a), np.sqrt(1 - a))\n    distance = R * c\n    return distance\n\n# Initialize arrays to store distances\nfrom_sites = []\nto_sites = []\ndistances = []\n\n# Calculate distances between each pair of sites\nfor i in range(len(launch_sites_df)):\n    for j in range(len(launch_sites_df)):\n        if i != j:  # Skip the same site\n            lat1 = launch_sites_df.loc[i, 'Lat']\n            lon1 = launch_sites_df.loc[i, 'Long']\n            lat2 = launch_sites_df.loc[j, 'Lat']\n            lon2 = launch_sites_df.loc[j, 'Long']\n            \n            distance = haversine_np(lat1, lon1, lat2, lon2)\n            \n            from_sites.append(launch_sites_df.loc[i, 'Launch Site'])\n            to_sites.append(launch_sites_df.loc[j, 'Launch Site'])\n            distances.append(distance)\n\n# Create a DataFrame with distances\ndistance_df = pd.DataFrame({\n    'FromSite': from_sites,\n    'ToSite': to_sites,\n    'Distance_km': distances\n})\n\n# Display the DataFrame with distances\nprint(distance_df)",
      "metadata": {
        "trusted": true
      },
      "outputs": [
        {
          "name": "stdout",
          "text": "        FromSite        ToSite  Distance_km\n0    CCAFS LC-40  CCAFS SLC-40     0.112488\n1    CCAFS LC-40    KSC LC-39A     6.899304\n2    CCAFS LC-40   VAFB SLC-4E  3825.840279\n3   CCAFS SLC-40   CCAFS LC-40     0.112488\n4   CCAFS SLC-40    KSC LC-39A     6.934099\n5   CCAFS SLC-40   VAFB SLC-4E  3825.854482\n6     KSC LC-39A   CCAFS LC-40     6.899304\n7     KSC LC-39A  CCAFS SLC-40     6.934099\n8     KSC LC-39A   VAFB SLC-4E  3819.052794\n9    VAFB SLC-4E   CCAFS LC-40  3825.840279\n10   VAFB SLC-4E  CCAFS SLC-40  3825.854482\n11   VAFB SLC-4E    KSC LC-39A  3819.052794\n",
          "output_type": "stream"
        }
      ],
      "execution_count": 30
    },
    {
      "cell_type": "markdown",
      "source": "Next, we need to explore and analyze the proximities of launch sites.\n",
      "metadata": {}
    },
    {
      "cell_type": "markdown",
      "source": "Let's first add a `MousePosition` on the map to get coordinate for a mouse over a point on the map. As such, while you are exploring the map, you can easily find the coordinates of any points of interests (such as railway)\n",
      "metadata": {}
    },
    {
      "cell_type": "code",
      "source": "# Add Mouse Position to get the coordinate (Lat, Long) for a mouse over on the map\nformatter = \"function(num) {return L.Util.formatNum(num, 5);};\"\nmouse_position = MousePosition(\n    position='topright',\n    separator=' Long: ',\n    empty_string='NaN',\n    lng_first=False,\n    num_digits=20,\n    prefix='Lat:',\n    lat_formatter=formatter,\n    lng_formatter=formatter,\n)\n\nsite_map.add_child(mouse_position)\nsite_map",
      "metadata": {
        "trusted": true
      },
      "outputs": [
        {
          "execution_count": 31,
          "output_type": "execute_result",
          "data": {
            "text/plain": "<folium.folium.Map at 0x5f48810>",
            "text/html": "<div style=\"width:100%;\"><div style=\"position:relative;width:100%;height:0;padding-bottom:60%;\"><span style=\"color:#565656\">Make this Notebook Trusted to load map: File -> Trust Notebook</span><iframe srcdoc=\"&lt;!DOCTYPE html&gt;\n&lt;html&gt;\n&lt;head&gt;\n    \n    &lt;meta http-equiv=&quot;content-type&quot; content=&quot;text/html; charset=UTF-8&quot; /&gt;\n    \n        &lt;script&gt;\n            L_NO_TOUCH = false;\n            L_DISABLE_3D = false;\n        &lt;/script&gt;\n    \n    &lt;style&gt;html, body {width: 100%;height: 100%;margin: 0;padding: 0;}&lt;/style&gt;\n    &lt;style&gt;#map {position:absolute;top:0;bottom:0;right:0;left:0;}&lt;/style&gt;\n    &lt;script src=&quot;https://cdn.jsdelivr.net/npm/leaflet@1.9.3/dist/leaflet.js&quot;&gt;&lt;/script&gt;\n    &lt;script src=&quot;https://code.jquery.com/jquery-3.7.1.min.js&quot;&gt;&lt;/script&gt;\n    &lt;script src=&quot;https://cdn.jsdelivr.net/npm/bootstrap@5.2.2/dist/js/bootstrap.bundle.min.js&quot;&gt;&lt;/script&gt;\n    &lt;script src=&quot;https://cdnjs.cloudflare.com/ajax/libs/Leaflet.awesome-markers/2.0.2/leaflet.awesome-markers.js&quot;&gt;&lt;/script&gt;\n    &lt;link rel=&quot;stylesheet&quot; href=&quot;https://cdn.jsdelivr.net/npm/leaflet@1.9.3/dist/leaflet.css&quot;/&gt;\n    &lt;link rel=&quot;stylesheet&quot; href=&quot;https://cdn.jsdelivr.net/npm/bootstrap@5.2.2/dist/css/bootstrap.min.css&quot;/&gt;\n    &lt;link rel=&quot;stylesheet&quot; href=&quot;https://netdna.bootstrapcdn.com/bootstrap/3.0.0/css/bootstrap-glyphicons.css&quot;/&gt;\n    &lt;link rel=&quot;stylesheet&quot; href=&quot;https://cdn.jsdelivr.net/npm/@fortawesome/fontawesome-free@6.2.0/css/all.min.css&quot;/&gt;\n    &lt;link rel=&quot;stylesheet&quot; href=&quot;https://cdnjs.cloudflare.com/ajax/libs/Leaflet.awesome-markers/2.0.2/leaflet.awesome-markers.css&quot;/&gt;\n    &lt;link rel=&quot;stylesheet&quot; href=&quot;https://cdn.jsdelivr.net/gh/python-visualization/folium/folium/templates/leaflet.awesome.rotate.min.css&quot;/&gt;\n    \n            &lt;meta name=&quot;viewport&quot; content=&quot;width=device-width,\n                initial-scale=1.0, maximum-scale=1.0, user-scalable=no&quot; /&gt;\n            &lt;style&gt;\n                #map_2a4cc92e966d86abd126ab8df0303a06 {\n                    position: relative;\n                    width: 100.0%;\n                    height: 100.0%;\n                    left: 0.0%;\n                    top: 0.0%;\n                }\n                .leaflet-container { font-size: 1rem; }\n            &lt;/style&gt;\n        \n    &lt;script src=&quot;https://cdnjs.cloudflare.com/ajax/libs/leaflet.markercluster/1.1.0/leaflet.markercluster.js&quot;&gt;&lt;/script&gt;\n    &lt;link rel=&quot;stylesheet&quot; href=&quot;https://cdnjs.cloudflare.com/ajax/libs/leaflet.markercluster/1.1.0/MarkerCluster.css&quot;/&gt;\n    &lt;link rel=&quot;stylesheet&quot; href=&quot;https://cdnjs.cloudflare.com/ajax/libs/leaflet.markercluster/1.1.0/MarkerCluster.Default.css&quot;/&gt;\n    &lt;script src=&quot;https://cdn.jsdelivr.net/gh/ardhi/Leaflet.MousePosition/src/L.Control.MousePosition.min.js&quot;&gt;&lt;/script&gt;\n    &lt;link rel=&quot;stylesheet&quot; href=&quot;https://cdn.jsdelivr.net/gh/ardhi/Leaflet.MousePosition/src/L.Control.MousePosition.min.css&quot;/&gt;\n&lt;/head&gt;\n&lt;body&gt;\n    \n    \n            &lt;div class=&quot;folium-map&quot; id=&quot;map_2a4cc92e966d86abd126ab8df0303a06&quot; &gt;&lt;/div&gt;\n        \n&lt;/body&gt;\n&lt;script&gt;\n    \n    \n            var map_2a4cc92e966d86abd126ab8df0303a06 = L.map(\n                &quot;map_2a4cc92e966d86abd126ab8df0303a06&quot;,\n                {\n                    center: [30.08289697, -90.602954325],\n                    crs: L.CRS.EPSG3857,\n                    zoom: 5,\n                    zoomControl: true,\n                    preferCanvas: false,\n                }\n            );\n\n            \n\n        \n    \n            var tile_layer_51b5c807a5fe445de7dd293401d1f809 = L.tileLayer(\n                &quot;https://tile.openstreetmap.org/{z}/{x}/{y}.png&quot;,\n                {&quot;attribution&quot;: &quot;\\u0026copy; \\u003ca href=\\&quot;https://www.openstreetmap.org/copyright\\&quot;\\u003eOpenStreetMap\\u003c/a\\u003e contributors&quot;, &quot;detectRetina&quot;: false, &quot;maxNativeZoom&quot;: 19, &quot;maxZoom&quot;: 19, &quot;minZoom&quot;: 0, &quot;noWrap&quot;: false, &quot;opacity&quot;: 1, &quot;subdomains&quot;: &quot;abc&quot;, &quot;tms&quot;: false}\n            );\n        \n    \n            tile_layer_51b5c807a5fe445de7dd293401d1f809.addTo(map_2a4cc92e966d86abd126ab8df0303a06);\n        \n    \n            var circle_25fdc92494a718a2103d11452c604bca = L.circle(\n                [28.56230197, -80.57735648],\n                {&quot;bubblingMouseEvents&quot;: true, &quot;color&quot;: &quot;#000000&quot;, &quot;dashArray&quot;: null, &quot;dashOffset&quot;: null, &quot;fill&quot;: true, &quot;fillColor&quot;: &quot;#000000&quot;, &quot;fillOpacity&quot;: 0.2, &quot;fillRule&quot;: &quot;evenodd&quot;, &quot;lineCap&quot;: &quot;round&quot;, &quot;lineJoin&quot;: &quot;round&quot;, &quot;opacity&quot;: 1.0, &quot;radius&quot;: 1000, &quot;stroke&quot;: true, &quot;weight&quot;: 3}\n            ).addTo(map_2a4cc92e966d86abd126ab8df0303a06);\n        \n    \n        var popup_da7c30d13c86848f366e75af8809079e = L.popup({&quot;maxWidth&quot;: &quot;100%&quot;});\n\n        \n            \n                var html_03ddb8da4b8237f297a0e12120283c81 = $(`&lt;div id=&quot;html_03ddb8da4b8237f297a0e12120283c81&quot; style=&quot;width: 100.0%; height: 100.0%;&quot;&gt;CCAFS LC-40&lt;/div&gt;`)[0];\n                popup_da7c30d13c86848f366e75af8809079e.setContent(html_03ddb8da4b8237f297a0e12120283c81);\n            \n        \n\n        circle_25fdc92494a718a2103d11452c604bca.bindPopup(popup_da7c30d13c86848f366e75af8809079e)\n        ;\n\n        \n    \n    \n            var marker_8eb274b0bff95710800fce51716c6906 = L.marker(\n                [28.56230197, -80.57735648],\n                {}\n            ).addTo(map_2a4cc92e966d86abd126ab8df0303a06);\n        \n    \n            var div_icon_0a67fced9f84766d0cb26c2bc7629555 = L.divIcon({&quot;className&quot;: &quot;empty&quot;, &quot;html&quot;: &quot;\\u003cdiv style=\\&quot;font-size: 12px; color:#d35400;\\&quot;\\u003e\\u003cb\\u003eCCAFS LC-40\\u003c/b\\u003e\\u003c/div\\u003e&quot;, &quot;iconAnchor&quot;: [0, 0], &quot;iconSize&quot;: [20, 20]});\n            marker_8eb274b0bff95710800fce51716c6906.setIcon(div_icon_0a67fced9f84766d0cb26c2bc7629555);\n        \n    \n        var popup_db007c918b6f20bd98ec7ef6d1835ea7 = L.popup({&quot;maxWidth&quot;: &quot;100%&quot;});\n\n        \n            \n                var html_54a914ded1555f4e946ff2f01e3553db = $(`&lt;div id=&quot;html_54a914ded1555f4e946ff2f01e3553db&quot; style=&quot;width: 100.0%; height: 100.0%;&quot;&gt;CCAFS LC-40&lt;/div&gt;`)[0];\n                popup_db007c918b6f20bd98ec7ef6d1835ea7.setContent(html_54a914ded1555f4e946ff2f01e3553db);\n            \n        \n\n        marker_8eb274b0bff95710800fce51716c6906.bindPopup(popup_db007c918b6f20bd98ec7ef6d1835ea7)\n        ;\n\n        \n    \n    \n            var circle_ed2c5aa029e0353ca845af4fce8b7566 = L.circle(\n                [28.56319718, -80.57682003],\n                {&quot;bubblingMouseEvents&quot;: true, &quot;color&quot;: &quot;#000000&quot;, &quot;dashArray&quot;: null, &quot;dashOffset&quot;: null, &quot;fill&quot;: true, &quot;fillColor&quot;: &quot;#000000&quot;, &quot;fillOpacity&quot;: 0.2, &quot;fillRule&quot;: &quot;evenodd&quot;, &quot;lineCap&quot;: &quot;round&quot;, &quot;lineJoin&quot;: &quot;round&quot;, &quot;opacity&quot;: 1.0, &quot;radius&quot;: 1000, &quot;stroke&quot;: true, &quot;weight&quot;: 3}\n            ).addTo(map_2a4cc92e966d86abd126ab8df0303a06);\n        \n    \n        var popup_bc3bda5f59b90365ef6c30877a7bbb77 = L.popup({&quot;maxWidth&quot;: &quot;100%&quot;});\n\n        \n            \n                var html_3507e42cf3347cb3d9c542d71c12ad34 = $(`&lt;div id=&quot;html_3507e42cf3347cb3d9c542d71c12ad34&quot; style=&quot;width: 100.0%; height: 100.0%;&quot;&gt;CCAFS SLC-40&lt;/div&gt;`)[0];\n                popup_bc3bda5f59b90365ef6c30877a7bbb77.setContent(html_3507e42cf3347cb3d9c542d71c12ad34);\n            \n        \n\n        circle_ed2c5aa029e0353ca845af4fce8b7566.bindPopup(popup_bc3bda5f59b90365ef6c30877a7bbb77)\n        ;\n\n        \n    \n    \n            var marker_1ca474fc5e05aeb7790a1e08b64a0e0c = L.marker(\n                [28.56319718, -80.57682003],\n                {}\n            ).addTo(map_2a4cc92e966d86abd126ab8df0303a06);\n        \n    \n            var div_icon_320c254ccd0d86a761042e724ca40d78 = L.divIcon({&quot;className&quot;: &quot;empty&quot;, &quot;html&quot;: &quot;\\u003cdiv style=\\&quot;font-size: 12px; color:#d35400;\\&quot;\\u003e\\u003cb\\u003eCCAFS SLC-40\\u003c/b\\u003e\\u003c/div\\u003e&quot;, &quot;iconAnchor&quot;: [0, 0], &quot;iconSize&quot;: [20, 20]});\n            marker_1ca474fc5e05aeb7790a1e08b64a0e0c.setIcon(div_icon_320c254ccd0d86a761042e724ca40d78);\n        \n    \n        var popup_2d1094209f64f12373a9ab8aae86edb9 = L.popup({&quot;maxWidth&quot;: &quot;100%&quot;});\n\n        \n            \n                var html_7fd8568eea383626bc0387eeb9aedb02 = $(`&lt;div id=&quot;html_7fd8568eea383626bc0387eeb9aedb02&quot; style=&quot;width: 100.0%; height: 100.0%;&quot;&gt;CCAFS SLC-40&lt;/div&gt;`)[0];\n                popup_2d1094209f64f12373a9ab8aae86edb9.setContent(html_7fd8568eea383626bc0387eeb9aedb02);\n            \n        \n\n        marker_1ca474fc5e05aeb7790a1e08b64a0e0c.bindPopup(popup_2d1094209f64f12373a9ab8aae86edb9)\n        ;\n\n        \n    \n    \n            var circle_f493f5d7afb74077089f49d997e66e66 = L.circle(\n                [28.57325457, -80.64689529],\n                {&quot;bubblingMouseEvents&quot;: true, &quot;color&quot;: &quot;#000000&quot;, &quot;dashArray&quot;: null, &quot;dashOffset&quot;: null, &quot;fill&quot;: true, &quot;fillColor&quot;: &quot;#000000&quot;, &quot;fillOpacity&quot;: 0.2, &quot;fillRule&quot;: &quot;evenodd&quot;, &quot;lineCap&quot;: &quot;round&quot;, &quot;lineJoin&quot;: &quot;round&quot;, &quot;opacity&quot;: 1.0, &quot;radius&quot;: 1000, &quot;stroke&quot;: true, &quot;weight&quot;: 3}\n            ).addTo(map_2a4cc92e966d86abd126ab8df0303a06);\n        \n    \n        var popup_dd6da6a31c930e7c805064e1e3091ff5 = L.popup({&quot;maxWidth&quot;: &quot;100%&quot;});\n\n        \n            \n                var html_0900671751da93e498af8c3974390982 = $(`&lt;div id=&quot;html_0900671751da93e498af8c3974390982&quot; style=&quot;width: 100.0%; height: 100.0%;&quot;&gt;KSC LC-39A&lt;/div&gt;`)[0];\n                popup_dd6da6a31c930e7c805064e1e3091ff5.setContent(html_0900671751da93e498af8c3974390982);\n            \n        \n\n        circle_f493f5d7afb74077089f49d997e66e66.bindPopup(popup_dd6da6a31c930e7c805064e1e3091ff5)\n        ;\n\n        \n    \n    \n            var marker_8fb42b2a6177fc94a1ce16b70928f8bd = L.marker(\n                [28.57325457, -80.64689529],\n                {}\n            ).addTo(map_2a4cc92e966d86abd126ab8df0303a06);\n        \n    \n            var div_icon_84a6256ea7b38e38986762838557b242 = L.divIcon({&quot;className&quot;: &quot;empty&quot;, &quot;html&quot;: &quot;\\u003cdiv style=\\&quot;font-size: 12px; color:#d35400;\\&quot;\\u003e\\u003cb\\u003eKSC LC-39A\\u003c/b\\u003e\\u003c/div\\u003e&quot;, &quot;iconAnchor&quot;: [0, 0], &quot;iconSize&quot;: [20, 20]});\n            marker_8fb42b2a6177fc94a1ce16b70928f8bd.setIcon(div_icon_84a6256ea7b38e38986762838557b242);\n        \n    \n        var popup_c74939be95c5840ff2fcf701f8c69807 = L.popup({&quot;maxWidth&quot;: &quot;100%&quot;});\n\n        \n            \n                var html_9a09660761d4d560e9084c5eec24b75e = $(`&lt;div id=&quot;html_9a09660761d4d560e9084c5eec24b75e&quot; style=&quot;width: 100.0%; height: 100.0%;&quot;&gt;KSC LC-39A&lt;/div&gt;`)[0];\n                popup_c74939be95c5840ff2fcf701f8c69807.setContent(html_9a09660761d4d560e9084c5eec24b75e);\n            \n        \n\n        marker_8fb42b2a6177fc94a1ce16b70928f8bd.bindPopup(popup_c74939be95c5840ff2fcf701f8c69807)\n        ;\n\n        \n    \n    \n            var circle_8c9d9d81f8429df846c999e2f7cc4dd4 = L.circle(\n                [34.63283416, -120.6107455],\n                {&quot;bubblingMouseEvents&quot;: true, &quot;color&quot;: &quot;#000000&quot;, &quot;dashArray&quot;: null, &quot;dashOffset&quot;: null, &quot;fill&quot;: true, &quot;fillColor&quot;: &quot;#000000&quot;, &quot;fillOpacity&quot;: 0.2, &quot;fillRule&quot;: &quot;evenodd&quot;, &quot;lineCap&quot;: &quot;round&quot;, &quot;lineJoin&quot;: &quot;round&quot;, &quot;opacity&quot;: 1.0, &quot;radius&quot;: 1000, &quot;stroke&quot;: true, &quot;weight&quot;: 3}\n            ).addTo(map_2a4cc92e966d86abd126ab8df0303a06);\n        \n    \n        var popup_2d8ed61b0f529e17c325792ff5f17f90 = L.popup({&quot;maxWidth&quot;: &quot;100%&quot;});\n\n        \n            \n                var html_92be3ba168dc272a7b89ee24fe0a0b7b = $(`&lt;div id=&quot;html_92be3ba168dc272a7b89ee24fe0a0b7b&quot; style=&quot;width: 100.0%; height: 100.0%;&quot;&gt;VAFB SLC-4E&lt;/div&gt;`)[0];\n                popup_2d8ed61b0f529e17c325792ff5f17f90.setContent(html_92be3ba168dc272a7b89ee24fe0a0b7b);\n            \n        \n\n        circle_8c9d9d81f8429df846c999e2f7cc4dd4.bindPopup(popup_2d8ed61b0f529e17c325792ff5f17f90)\n        ;\n\n        \n    \n    \n            var marker_5674cbf4d9f4a71f175ed3a27a3f109a = L.marker(\n                [34.63283416, -120.6107455],\n                {}\n            ).addTo(map_2a4cc92e966d86abd126ab8df0303a06);\n        \n    \n            var div_icon_9e9bcf28fc074310e9aef1651fe1212a = L.divIcon({&quot;className&quot;: &quot;empty&quot;, &quot;html&quot;: &quot;\\u003cdiv style=\\&quot;font-size: 12px; color:#d35400;\\&quot;\\u003e\\u003cb\\u003eVAFB SLC-4E\\u003c/b\\u003e\\u003c/div\\u003e&quot;, &quot;iconAnchor&quot;: [0, 0], &quot;iconSize&quot;: [20, 20]});\n            marker_5674cbf4d9f4a71f175ed3a27a3f109a.setIcon(div_icon_9e9bcf28fc074310e9aef1651fe1212a);\n        \n    \n        var popup_c35e50477a0abdac3506f6019dcc3ab4 = L.popup({&quot;maxWidth&quot;: &quot;100%&quot;});\n\n        \n            \n                var html_9a510ebfa7c6529ad470a01d3f3a5214 = $(`&lt;div id=&quot;html_9a510ebfa7c6529ad470a01d3f3a5214&quot; style=&quot;width: 100.0%; height: 100.0%;&quot;&gt;VAFB SLC-4E&lt;/div&gt;`)[0];\n                popup_c35e50477a0abdac3506f6019dcc3ab4.setContent(html_9a510ebfa7c6529ad470a01d3f3a5214);\n            \n        \n\n        marker_5674cbf4d9f4a71f175ed3a27a3f109a.bindPopup(popup_c35e50477a0abdac3506f6019dcc3ab4)\n        ;\n\n        \n    \n    \n            tile_layer_51b5c807a5fe445de7dd293401d1f809.addTo(map_2a4cc92e966d86abd126ab8df0303a06);\n        \n    \n            var marker_cluster_ca27b3b67a86de2b4a2aaa18a0f274fa = L.markerClusterGroup(\n                {}\n            );\n        \n    \n            var marker_f584190a8fbf0a51f7c07882f7f82580 = L.marker(\n                [28.56230197, -80.57735648],\n                {}\n            ).addTo(marker_cluster_ca27b3b67a86de2b4a2aaa18a0f274fa);\n        \n    \n            var marker_98070a76f5dec432f61cf11d0f0e545e = L.marker(\n                [28.56230197, -80.57735648],\n                {}\n            ).addTo(marker_cluster_ca27b3b67a86de2b4a2aaa18a0f274fa);\n        \n    \n            var marker_0aa27fc558fb4b3825cbed6803f44819 = L.marker(\n                [28.56230197, -80.57735648],\n                {}\n            ).addTo(marker_cluster_ca27b3b67a86de2b4a2aaa18a0f274fa);\n        \n    \n            var marker_9f6178bb525314c946cd88d87a8b45ee = L.marker(\n                [28.56230197, -80.57735648],\n                {}\n            ).addTo(marker_cluster_ca27b3b67a86de2b4a2aaa18a0f274fa);\n        \n    \n            var marker_a0c7f4d3e8574dda7cc10ac003ba433c = L.marker(\n                [28.56230197, -80.57735648],\n                {}\n            ).addTo(marker_cluster_ca27b3b67a86de2b4a2aaa18a0f274fa);\n        \n    \n            var marker_5876af9d5b739f96030b865d32e72120 = L.marker(\n                [28.56230197, -80.57735648],\n                {}\n            ).addTo(marker_cluster_ca27b3b67a86de2b4a2aaa18a0f274fa);\n        \n    \n            var marker_dc741d94280efb7a709132a3027ae0b5 = L.marker(\n                [28.56230197, -80.57735648],\n                {}\n            ).addTo(marker_cluster_ca27b3b67a86de2b4a2aaa18a0f274fa);\n        \n    \n            var marker_6db384657fa8cb2aaabf1f3ea660f965 = L.marker(\n                [28.56230197, -80.57735648],\n                {}\n            ).addTo(marker_cluster_ca27b3b67a86de2b4a2aaa18a0f274fa);\n        \n    \n            var marker_a2ff3c70a6ce62afdab88f89c7ba188a = L.marker(\n                [28.56230197, -80.57735648],\n                {}\n            ).addTo(marker_cluster_ca27b3b67a86de2b4a2aaa18a0f274fa);\n        \n    \n            var marker_fb86cd451e00a9f5606049fbb271c2ca = L.marker(\n                [28.56230197, -80.57735648],\n                {}\n            ).addTo(marker_cluster_ca27b3b67a86de2b4a2aaa18a0f274fa);\n        \n    \n            var marker_3e716f8852c4288a91c8d4d1e2372aa2 = L.marker(\n                [28.56230197, -80.57735648],\n                {}\n            ).addTo(marker_cluster_ca27b3b67a86de2b4a2aaa18a0f274fa);\n        \n    \n            var marker_35980e71b49ac9c3ec0911416d6efcdb = L.marker(\n                [28.56230197, -80.57735648],\n                {}\n            ).addTo(marker_cluster_ca27b3b67a86de2b4a2aaa18a0f274fa);\n        \n    \n            var marker_73da1bf30190f415893483551bf2ea3f = L.marker(\n                [28.56230197, -80.57735648],\n                {}\n            ).addTo(marker_cluster_ca27b3b67a86de2b4a2aaa18a0f274fa);\n        \n    \n            var marker_e86b0909f9c57ff649443ba483f987ac = L.marker(\n                [28.56230197, -80.57735648],\n                {}\n            ).addTo(marker_cluster_ca27b3b67a86de2b4a2aaa18a0f274fa);\n        \n    \n            var marker_95d3f9b2137a245fc9c298b8169b9309 = L.marker(\n                [28.56230197, -80.57735648],\n                {}\n            ).addTo(marker_cluster_ca27b3b67a86de2b4a2aaa18a0f274fa);\n        \n    \n            var marker_74a4e1aa06ab4a91759f9bf7df2c325b = L.marker(\n                [28.56230197, -80.57735648],\n                {}\n            ).addTo(marker_cluster_ca27b3b67a86de2b4a2aaa18a0f274fa);\n        \n    \n            var marker_9b8094335370aa849a273320e231fae8 = L.marker(\n                [28.56230197, -80.57735648],\n                {}\n            ).addTo(marker_cluster_ca27b3b67a86de2b4a2aaa18a0f274fa);\n        \n    \n            var marker_470ae046b4f58f3f174fbc415d59f68d = L.marker(\n                [28.56230197, -80.57735648],\n                {}\n            ).addTo(marker_cluster_ca27b3b67a86de2b4a2aaa18a0f274fa);\n        \n    \n            var marker_16234401bbf6af3bc690066f30cc62f1 = L.marker(\n                [28.56230197, -80.57735648],\n                {}\n            ).addTo(marker_cluster_ca27b3b67a86de2b4a2aaa18a0f274fa);\n        \n    \n            var marker_b7f1631a836114a28ded5d0d7ced81f5 = L.marker(\n                [28.56230197, -80.57735648],\n                {}\n            ).addTo(marker_cluster_ca27b3b67a86de2b4a2aaa18a0f274fa);\n        \n    \n            var marker_ae126f1195c74defb55127d9f55e99eb = L.marker(\n                [28.56230197, -80.57735648],\n                {}\n            ).addTo(marker_cluster_ca27b3b67a86de2b4a2aaa18a0f274fa);\n        \n    \n            var marker_9a3783d0f0cec656d3e5dd790f46812c = L.marker(\n                [28.56230197, -80.57735648],\n                {}\n            ).addTo(marker_cluster_ca27b3b67a86de2b4a2aaa18a0f274fa);\n        \n    \n            var marker_3d77b6d53c46624c63053ecdd95bdb56 = L.marker(\n                [28.56230197, -80.57735648],\n                {}\n            ).addTo(marker_cluster_ca27b3b67a86de2b4a2aaa18a0f274fa);\n        \n    \n            var marker_c2ebdf27d49f9fcfdc375e480b761c08 = L.marker(\n                [28.56230197, -80.57735648],\n                {}\n            ).addTo(marker_cluster_ca27b3b67a86de2b4a2aaa18a0f274fa);\n        \n    \n            var marker_28d75436a25c06748f7c2dfcc85e3df8 = L.marker(\n                [28.56230197, -80.57735648],\n                {}\n            ).addTo(marker_cluster_ca27b3b67a86de2b4a2aaa18a0f274fa);\n        \n    \n            var marker_a33bb6c1bf8ebc332c2ab316397b383b = L.marker(\n                [28.56230197, -80.57735648],\n                {}\n            ).addTo(marker_cluster_ca27b3b67a86de2b4a2aaa18a0f274fa);\n        \n    \n            var marker_b042fd984dfd442764b47e140d8470fa = L.marker(\n                [34.63283416, -120.6107455],\n                {}\n            ).addTo(marker_cluster_ca27b3b67a86de2b4a2aaa18a0f274fa);\n        \n    \n            var marker_54e8345b24b7b8a67fcca5544cc699f9 = L.marker(\n                [34.63283416, -120.6107455],\n                {}\n            ).addTo(marker_cluster_ca27b3b67a86de2b4a2aaa18a0f274fa);\n        \n    \n            var marker_083f7fcb7aefe2f603ec7462e450c32f = L.marker(\n                [34.63283416, -120.6107455],\n                {}\n            ).addTo(marker_cluster_ca27b3b67a86de2b4a2aaa18a0f274fa);\n        \n    \n            var marker_814f5755c479b41248e2c58b48ace4a6 = L.marker(\n                [34.63283416, -120.6107455],\n                {}\n            ).addTo(marker_cluster_ca27b3b67a86de2b4a2aaa18a0f274fa);\n        \n    \n            var marker_871529a097b03cddbc7838b4798a6718 = L.marker(\n                [34.63283416, -120.6107455],\n                {}\n            ).addTo(marker_cluster_ca27b3b67a86de2b4a2aaa18a0f274fa);\n        \n    \n            var marker_8781607ee1857727045edd1a6a272791 = L.marker(\n                [34.63283416, -120.6107455],\n                {}\n            ).addTo(marker_cluster_ca27b3b67a86de2b4a2aaa18a0f274fa);\n        \n    \n            var marker_5dba54edbf2e46385f01c1672382c9de = L.marker(\n                [34.63283416, -120.6107455],\n                {}\n            ).addTo(marker_cluster_ca27b3b67a86de2b4a2aaa18a0f274fa);\n        \n    \n            var marker_cebceb487818f82c911a7ded0335d921 = L.marker(\n                [34.63283416, -120.6107455],\n                {}\n            ).addTo(marker_cluster_ca27b3b67a86de2b4a2aaa18a0f274fa);\n        \n    \n            var marker_1dca523b38d21902e3ffc8d3249a88df = L.marker(\n                [34.63283416, -120.6107455],\n                {}\n            ).addTo(marker_cluster_ca27b3b67a86de2b4a2aaa18a0f274fa);\n        \n    \n            var marker_dc1f3f0ae8a05efa9109cc5c58010046 = L.marker(\n                [34.63283416, -120.6107455],\n                {}\n            ).addTo(marker_cluster_ca27b3b67a86de2b4a2aaa18a0f274fa);\n        \n    \n            var marker_c90919e00ec313f73962df124b466acd = L.marker(\n                [28.57325457, -80.64689529],\n                {}\n            ).addTo(marker_cluster_ca27b3b67a86de2b4a2aaa18a0f274fa);\n        \n    \n            var marker_5ed3a61858c89878a54ddb223d50050d = L.marker(\n                [28.57325457, -80.64689529],\n                {}\n            ).addTo(marker_cluster_ca27b3b67a86de2b4a2aaa18a0f274fa);\n        \n    \n            var marker_079c30517cc576ff1b9d1bbf0e556aba = L.marker(\n                [28.57325457, -80.64689529],\n                {}\n            ).addTo(marker_cluster_ca27b3b67a86de2b4a2aaa18a0f274fa);\n        \n    \n            var marker_a697ca2734d9337ccba80d8f320ce0a7 = L.marker(\n                [28.57325457, -80.64689529],\n                {}\n            ).addTo(marker_cluster_ca27b3b67a86de2b4a2aaa18a0f274fa);\n        \n    \n            var marker_218bc1c4e1278b3d60172632c9fc93a7 = L.marker(\n                [28.57325457, -80.64689529],\n                {}\n            ).addTo(marker_cluster_ca27b3b67a86de2b4a2aaa18a0f274fa);\n        \n    \n            var marker_e6b052787bfefe6123ba332fb367b8b0 = L.marker(\n                [28.57325457, -80.64689529],\n                {}\n            ).addTo(marker_cluster_ca27b3b67a86de2b4a2aaa18a0f274fa);\n        \n    \n            var marker_1e2bd1cf940f7610172fb9e316790518 = L.marker(\n                [28.57325457, -80.64689529],\n                {}\n            ).addTo(marker_cluster_ca27b3b67a86de2b4a2aaa18a0f274fa);\n        \n    \n            var marker_8954408a146260c9ae9ce258fae6e09c = L.marker(\n                [28.57325457, -80.64689529],\n                {}\n            ).addTo(marker_cluster_ca27b3b67a86de2b4a2aaa18a0f274fa);\n        \n    \n            var marker_2391e5fc61ac134f8ff0721b538cd7d3 = L.marker(\n                [28.57325457, -80.64689529],\n                {}\n            ).addTo(marker_cluster_ca27b3b67a86de2b4a2aaa18a0f274fa);\n        \n    \n            var marker_fcf7cf5757a81c19cbf837c3407f33a8 = L.marker(\n                [28.57325457, -80.64689529],\n                {}\n            ).addTo(marker_cluster_ca27b3b67a86de2b4a2aaa18a0f274fa);\n        \n    \n            var marker_c09d58140ec673d40d7d2b26df46e402 = L.marker(\n                [28.57325457, -80.64689529],\n                {}\n            ).addTo(marker_cluster_ca27b3b67a86de2b4a2aaa18a0f274fa);\n        \n    \n            var marker_ce22991f0c1ea648cab0abf2c9c1419f = L.marker(\n                [28.57325457, -80.64689529],\n                {}\n            ).addTo(marker_cluster_ca27b3b67a86de2b4a2aaa18a0f274fa);\n        \n    \n            var marker_75ce2f5aaacdad6e89d35c876cedadfe = L.marker(\n                [28.57325457, -80.64689529],\n                {}\n            ).addTo(marker_cluster_ca27b3b67a86de2b4a2aaa18a0f274fa);\n        \n    \n            var marker_0e6c33f52d7db63fde491c8917d8c940 = L.marker(\n                [28.56319718, -80.57682003],\n                {}\n            ).addTo(marker_cluster_ca27b3b67a86de2b4a2aaa18a0f274fa);\n        \n    \n            var marker_ac3d49cbcc5c41148f2517a2b248023c = L.marker(\n                [28.56319718, -80.57682003],\n                {}\n            ).addTo(marker_cluster_ca27b3b67a86de2b4a2aaa18a0f274fa);\n        \n    \n            var marker_ed506735dd961808d359f43c483cdf74 = L.marker(\n                [28.56319718, -80.57682003],\n                {}\n            ).addTo(marker_cluster_ca27b3b67a86de2b4a2aaa18a0f274fa);\n        \n    \n            var marker_763e01faf920f172dffca043b3c6a97f = L.marker(\n                [28.56319718, -80.57682003],\n                {}\n            ).addTo(marker_cluster_ca27b3b67a86de2b4a2aaa18a0f274fa);\n        \n    \n            var marker_301aaa17151bcce8332fe6ce68f4c048 = L.marker(\n                [28.56319718, -80.57682003],\n                {}\n            ).addTo(marker_cluster_ca27b3b67a86de2b4a2aaa18a0f274fa);\n        \n    \n            var marker_fa0a8c9be8cabc6ef72b3ebbc48741e2 = L.marker(\n                [28.56319718, -80.57682003],\n                {}\n            ).addTo(marker_cluster_ca27b3b67a86de2b4a2aaa18a0f274fa);\n        \n    \n            var marker_97ff86bc87a062fee5b4e763f8436d85 = L.marker(\n                [28.56319718, -80.57682003],\n                {}\n            ).addTo(marker_cluster_ca27b3b67a86de2b4a2aaa18a0f274fa);\n        \n    \n            marker_cluster_ca27b3b67a86de2b4a2aaa18a0f274fa.addTo(map_2a4cc92e966d86abd126ab8df0303a06);\n        \n    \n            tile_layer_51b5c807a5fe445de7dd293401d1f809.addTo(map_2a4cc92e966d86abd126ab8df0303a06);\n        \n    \n            marker_cluster_ca27b3b67a86de2b4a2aaa18a0f274fa.addTo(map_2a4cc92e966d86abd126ab8df0303a06);\n        \n    \n            var mouse_position_19362946f4a80cd82df742dd1fbb686e = new L.Control.MousePosition(\n                {&quot;emptyString&quot;: &quot;NaN&quot;, &quot;lngFirst&quot;: false, &quot;numDigits&quot;: 20, &quot;position&quot;: &quot;topright&quot;, &quot;prefix&quot;: &quot;Lat:&quot;, &quot;separator&quot;: &quot; Long: &quot;}\n            );\n            mouse_position_19362946f4a80cd82df742dd1fbb686e.options[&quot;latFormatter&quot;] =\n                function(num) {return L.Util.formatNum(num, 5);};;\n            mouse_position_19362946f4a80cd82df742dd1fbb686e.options[&quot;lngFormatter&quot;] =\n                function(num) {return L.Util.formatNum(num, 5);};;\n            map_2a4cc92e966d86abd126ab8df0303a06.addControl(mouse_position_19362946f4a80cd82df742dd1fbb686e);\n        \n&lt;/script&gt;\n&lt;/html&gt;\" style=\"position:absolute;width:100%;height:100%;left:0;top:0;border:none !important;\" allowfullscreen webkitallowfullscreen mozallowfullscreen></iframe></div></div>"
          },
          "metadata": {}
        }
      ],
      "execution_count": 31
    },
    {
      "cell_type": "markdown",
      "source": "Now zoom in to a launch site and explore its proximity to see if you can easily find any railway, highway, coastline, etc. Move your mouse to these points and mark down their coordinates (shown on the top-left) in order to the distance to the launch site.\n",
      "metadata": {}
    },
    {
      "cell_type": "markdown",
      "source": "Now zoom in to a launch site and explore its proximity to see if you can easily find any railway, highway, coastline, etc. Move your mouse to these points and mark down their coordinates (shown on the top-left) in order to the distance to the launch site.\n",
      "metadata": {}
    },
    {
      "cell_type": "code",
      "source": "from math import sin, cos, sqrt, atan2, radians\n\ndef calculate_distance(lat1, lon1, lat2, lon2):\n    # approximate radius of earth in km\n    R = 6373.0\n\n    lat1 = radians(lat1)\n    lon1 = radians(lon1)\n    lat2 = radians(lat2)\n    lon2 = radians(lon2)\n\n    dlon = lon2 - lon1\n    dlat = lat2 - lat1\n\n    a = sin(dlat / 2)**2 + cos(lat1) * cos(lat2) * sin(dlon / 2)**2\n    c = 2 * atan2(sqrt(a), sqrt(1 - a))\n\n    distance = R * c\n    return distance",
      "metadata": {
        "trusted": true
      },
      "outputs": [],
      "execution_count": 35
    },
    {
      "cell_type": "markdown",
      "source": "*TODO:* Mark down a point on the closest coastline using MousePosition and calculate the distance between the coastline point and the launch site.\n",
      "metadata": {}
    },
    {
      "cell_type": "code",
      "source": "# find coordinate of the closet coastline\n# e.g.,: Lat: 28.56367  Lon: -80.57163\n# distance_coastline = calculate_distance(launch_site_lat, launch_site_lon, coastline_lat, coastline_lon)",
      "metadata": {},
      "outputs": [],
      "execution_count": null
    },
    {
      "cell_type": "code",
      "source": "# Create and add a folium.Marker on your selected closest coastline point on the map\n# Display the distance between coastline point and launch site using the icon property \n# for example\n# distance_marker = folium.Marker(\n#    coordinate,\n#    icon=DivIcon(\n#        icon_size=(20,20),\n#        icon_anchor=(0,0),\n#        html='<div style=\"font-size: 12; color:#d35400;\"><b>%s</b></div>' % \"{:10.2f} KM\".format(distance),\n#        )\n#    )\ncoastline_lat, coastline_lon = 28.56367, -80.57163\n\n# Initialize the map centered around the launch site\nlaunch_site_lat, launch_site_lon = launch_sites_df.loc[0, 'Lat'], launch_sites_df.loc[0, 'Long']\nsite_map = folium.Map(location=[launch_site_lat, launch_site_lon], zoom_start=10)\n\n\n\n# Calculate distance between launch site and coastline\ndistance_coastline = calculate_distance(launch_site_lat, launch_site_lon, coastline_lat, coastline_lon)\n\n# Create and add a folium.Marker for the coastline point\nfolium.Marker(\n    location=[coastline_lat, coastline_lon],\n    icon=DivIcon(\n        icon_size=(20, 20),\n        icon_anchor=(0, 0),\n        html='<div style=\"font-size: 12px; color:#d35400;\"><b>Coastline</b></div>'\n    )\n).add_to(site_map)\n\n# Create and add a folium.Marker for the launch site with distance info\nfolium.Marker(\n    location=[launch_site_lat, launch_site_lon],\n    icon=DivIcon(\n        icon_size=(20, 20),\n        icon_anchor=(0, 0),\n        html='<div style=\"font-size: 12px; color:#d35400;\"><b>Launch Site<br>Distance: {:10.2f} KM</b></div>'.format(distance_coastline)\n    )\n).add_to(site_map)\n\n# Display the map\nsite_map",
      "metadata": {
        "trusted": true
      },
      "outputs": [
        {
          "execution_count": 36,
          "output_type": "execute_result",
          "data": {
            "text/plain": "<folium.folium.Map at 0x6ecbd58>",
            "text/html": "<div style=\"width:100%;\"><div style=\"position:relative;width:100%;height:0;padding-bottom:60%;\"><span style=\"color:#565656\">Make this Notebook Trusted to load map: File -> Trust Notebook</span><iframe srcdoc=\"&lt;!DOCTYPE html&gt;\n&lt;html&gt;\n&lt;head&gt;\n    \n    &lt;meta http-equiv=&quot;content-type&quot; content=&quot;text/html; charset=UTF-8&quot; /&gt;\n    \n        &lt;script&gt;\n            L_NO_TOUCH = false;\n            L_DISABLE_3D = false;\n        &lt;/script&gt;\n    \n    &lt;style&gt;html, body {width: 100%;height: 100%;margin: 0;padding: 0;}&lt;/style&gt;\n    &lt;style&gt;#map {position:absolute;top:0;bottom:0;right:0;left:0;}&lt;/style&gt;\n    &lt;script src=&quot;https://cdn.jsdelivr.net/npm/leaflet@1.9.3/dist/leaflet.js&quot;&gt;&lt;/script&gt;\n    &lt;script src=&quot;https://code.jquery.com/jquery-3.7.1.min.js&quot;&gt;&lt;/script&gt;\n    &lt;script src=&quot;https://cdn.jsdelivr.net/npm/bootstrap@5.2.2/dist/js/bootstrap.bundle.min.js&quot;&gt;&lt;/script&gt;\n    &lt;script src=&quot;https://cdnjs.cloudflare.com/ajax/libs/Leaflet.awesome-markers/2.0.2/leaflet.awesome-markers.js&quot;&gt;&lt;/script&gt;\n    &lt;link rel=&quot;stylesheet&quot; href=&quot;https://cdn.jsdelivr.net/npm/leaflet@1.9.3/dist/leaflet.css&quot;/&gt;\n    &lt;link rel=&quot;stylesheet&quot; href=&quot;https://cdn.jsdelivr.net/npm/bootstrap@5.2.2/dist/css/bootstrap.min.css&quot;/&gt;\n    &lt;link rel=&quot;stylesheet&quot; href=&quot;https://netdna.bootstrapcdn.com/bootstrap/3.0.0/css/bootstrap-glyphicons.css&quot;/&gt;\n    &lt;link rel=&quot;stylesheet&quot; href=&quot;https://cdn.jsdelivr.net/npm/@fortawesome/fontawesome-free@6.2.0/css/all.min.css&quot;/&gt;\n    &lt;link rel=&quot;stylesheet&quot; href=&quot;https://cdnjs.cloudflare.com/ajax/libs/Leaflet.awesome-markers/2.0.2/leaflet.awesome-markers.css&quot;/&gt;\n    &lt;link rel=&quot;stylesheet&quot; href=&quot;https://cdn.jsdelivr.net/gh/python-visualization/folium/folium/templates/leaflet.awesome.rotate.min.css&quot;/&gt;\n    \n            &lt;meta name=&quot;viewport&quot; content=&quot;width=device-width,\n                initial-scale=1.0, maximum-scale=1.0, user-scalable=no&quot; /&gt;\n            &lt;style&gt;\n                #map_aadf37373b9c42e4b366eda274e67e54 {\n                    position: relative;\n                    width: 100.0%;\n                    height: 100.0%;\n                    left: 0.0%;\n                    top: 0.0%;\n                }\n                .leaflet-container { font-size: 1rem; }\n            &lt;/style&gt;\n        \n&lt;/head&gt;\n&lt;body&gt;\n    \n    \n            &lt;div class=&quot;folium-map&quot; id=&quot;map_aadf37373b9c42e4b366eda274e67e54&quot; &gt;&lt;/div&gt;\n        \n&lt;/body&gt;\n&lt;script&gt;\n    \n    \n            var map_aadf37373b9c42e4b366eda274e67e54 = L.map(\n                &quot;map_aadf37373b9c42e4b366eda274e67e54&quot;,\n                {\n                    center: [0.49850621132536266, -1.4063401731291885],\n                    crs: L.CRS.EPSG3857,\n                    zoom: 10,\n                    zoomControl: true,\n                    preferCanvas: false,\n                }\n            );\n\n            \n\n        \n    \n            var tile_layer_12fd1b2ad63daa35986e93e9d1f5f936 = L.tileLayer(\n                &quot;https://tile.openstreetmap.org/{z}/{x}/{y}.png&quot;,\n                {&quot;attribution&quot;: &quot;\\u0026copy; \\u003ca href=\\&quot;https://www.openstreetmap.org/copyright\\&quot;\\u003eOpenStreetMap\\u003c/a\\u003e contributors&quot;, &quot;detectRetina&quot;: false, &quot;maxNativeZoom&quot;: 19, &quot;maxZoom&quot;: 19, &quot;minZoom&quot;: 0, &quot;noWrap&quot;: false, &quot;opacity&quot;: 1, &quot;subdomains&quot;: &quot;abc&quot;, &quot;tms&quot;: false}\n            );\n        \n    \n            tile_layer_12fd1b2ad63daa35986e93e9d1f5f936.addTo(map_aadf37373b9c42e4b366eda274e67e54);\n        \n    \n            var marker_e7034dce0b34da1f78fbefb2e6a6bab5 = L.marker(\n                [28.56367, -80.57163],\n                {}\n            ).addTo(map_aadf37373b9c42e4b366eda274e67e54);\n        \n    \n            var div_icon_da77e069e73c2ed1d79201b8f2ffb743 = L.divIcon({&quot;className&quot;: &quot;empty&quot;, &quot;html&quot;: &quot;\\u003cdiv style=\\&quot;font-size: 12px; color:#d35400;\\&quot;\\u003e\\u003cb\\u003eCoastline\\u003c/b\\u003e\\u003c/div\\u003e&quot;, &quot;iconAnchor&quot;: [0, 0], &quot;iconSize&quot;: [20, 20]});\n            marker_e7034dce0b34da1f78fbefb2e6a6bab5.setIcon(div_icon_da77e069e73c2ed1d79201b8f2ffb743);\n        \n    \n            var marker_d9cf0ee2029011368da5c2539d2c3d4c = L.marker(\n                [0.49850621132536266, -1.4063401731291885],\n                {}\n            ).addTo(map_aadf37373b9c42e4b366eda274e67e54);\n        \n    \n            var div_icon_02afe1993d08cc639c958c4e7e862a08 = L.divIcon({&quot;className&quot;: &quot;empty&quot;, &quot;html&quot;: &quot;\\u003cdiv style=\\&quot;font-size: 12px; color:#d35400;\\&quot;\\u003e\\u003cb\\u003eLaunch Site\\u003cbr\\u003eDistance:    8926.83 KM\\u003c/b\\u003e\\u003c/div\\u003e&quot;, &quot;iconAnchor&quot;: [0, 0], &quot;iconSize&quot;: [20, 20]});\n            marker_d9cf0ee2029011368da5c2539d2c3d4c.setIcon(div_icon_02afe1993d08cc639c958c4e7e862a08);\n        \n&lt;/script&gt;\n&lt;/html&gt;\" style=\"position:absolute;width:100%;height:100%;left:0;top:0;border:none !important;\" allowfullscreen webkitallowfullscreen mozallowfullscreen></iframe></div></div>"
          },
          "metadata": {}
        }
      ],
      "execution_count": 36
    },
    {
      "cell_type": "markdown",
      "source": "*TODO:* Draw a `PolyLine` between a launch site to the selected coastline point\n",
      "metadata": {}
    },
    {
      "cell_type": "code",
      "source": "# Create a `folium.PolyLine` object using the coastline coordinates and launch site coordinate\n# lines=folium.PolyLine(locations=coordinates, weight=1)\n\n\n# Calculate distance between launch site and coastline\ndistance_coastline = calculate_distance(launch_site_lat, launch_site_lon, coastline_lat, coastline_lon)\n\n# Create and add a folium.Marker for the coastline point\nfolium.Marker(\n    location=[coastline_lat, coastline_lon],\n    icon=DivIcon(\n        icon_size=(20, 20),\n        icon_anchor=(0, 0),\n        html='<div style=\"font-size: 12px; color:#d35400;\"><b>Coastline</b></div>'\n    )\n).add_to(site_map)\n\n# Create and add a folium.Marker for the launch site with distance info\nfolium.Marker(\n    location=[launch_site_lat, launch_site_lon],\n    icon=DivIcon(\n        icon_size=(20, 20),\n        icon_anchor=(0, 0),\n        html='<div style=\"font-size: 12px; color:#d35400;\"><b>Launch Site<br>Distance: {:10.2f} KM</b></div>'.format(distance_coastline)\n    )\n).add_to(site_map)\n\n# Create a PolyLine between the launch site and the coastline\ncoordinates = [(launch_site_lat, launch_site_lon), (coastline_lat, coastline_lon)]\nlines = folium.PolyLine(locations=coordinates, weight=2, color='blue')\nsite_map.add_child(lines)",
      "metadata": {
        "trusted": true
      },
      "outputs": [
        {
          "execution_count": 38,
          "output_type": "execute_result",
          "data": {
            "text/plain": "<folium.folium.Map at 0x6ecbd58>",
            "text/html": "<div style=\"width:100%;\"><div style=\"position:relative;width:100%;height:0;padding-bottom:60%;\"><span style=\"color:#565656\">Make this Notebook Trusted to load map: File -> Trust Notebook</span><iframe srcdoc=\"&lt;!DOCTYPE html&gt;\n&lt;html&gt;\n&lt;head&gt;\n    \n    &lt;meta http-equiv=&quot;content-type&quot; content=&quot;text/html; charset=UTF-8&quot; /&gt;\n    \n        &lt;script&gt;\n            L_NO_TOUCH = false;\n            L_DISABLE_3D = false;\n        &lt;/script&gt;\n    \n    &lt;style&gt;html, body {width: 100%;height: 100%;margin: 0;padding: 0;}&lt;/style&gt;\n    &lt;style&gt;#map {position:absolute;top:0;bottom:0;right:0;left:0;}&lt;/style&gt;\n    &lt;script src=&quot;https://cdn.jsdelivr.net/npm/leaflet@1.9.3/dist/leaflet.js&quot;&gt;&lt;/script&gt;\n    &lt;script src=&quot;https://code.jquery.com/jquery-3.7.1.min.js&quot;&gt;&lt;/script&gt;\n    &lt;script src=&quot;https://cdn.jsdelivr.net/npm/bootstrap@5.2.2/dist/js/bootstrap.bundle.min.js&quot;&gt;&lt;/script&gt;\n    &lt;script src=&quot;https://cdnjs.cloudflare.com/ajax/libs/Leaflet.awesome-markers/2.0.2/leaflet.awesome-markers.js&quot;&gt;&lt;/script&gt;\n    &lt;link rel=&quot;stylesheet&quot; href=&quot;https://cdn.jsdelivr.net/npm/leaflet@1.9.3/dist/leaflet.css&quot;/&gt;\n    &lt;link rel=&quot;stylesheet&quot; href=&quot;https://cdn.jsdelivr.net/npm/bootstrap@5.2.2/dist/css/bootstrap.min.css&quot;/&gt;\n    &lt;link rel=&quot;stylesheet&quot; href=&quot;https://netdna.bootstrapcdn.com/bootstrap/3.0.0/css/bootstrap-glyphicons.css&quot;/&gt;\n    &lt;link rel=&quot;stylesheet&quot; href=&quot;https://cdn.jsdelivr.net/npm/@fortawesome/fontawesome-free@6.2.0/css/all.min.css&quot;/&gt;\n    &lt;link rel=&quot;stylesheet&quot; href=&quot;https://cdnjs.cloudflare.com/ajax/libs/Leaflet.awesome-markers/2.0.2/leaflet.awesome-markers.css&quot;/&gt;\n    &lt;link rel=&quot;stylesheet&quot; href=&quot;https://cdn.jsdelivr.net/gh/python-visualization/folium/folium/templates/leaflet.awesome.rotate.min.css&quot;/&gt;\n    \n            &lt;meta name=&quot;viewport&quot; content=&quot;width=device-width,\n                initial-scale=1.0, maximum-scale=1.0, user-scalable=no&quot; /&gt;\n            &lt;style&gt;\n                #map_aadf37373b9c42e4b366eda274e67e54 {\n                    position: relative;\n                    width: 100.0%;\n                    height: 100.0%;\n                    left: 0.0%;\n                    top: 0.0%;\n                }\n                .leaflet-container { font-size: 1rem; }\n            &lt;/style&gt;\n        \n&lt;/head&gt;\n&lt;body&gt;\n    \n    \n            &lt;div class=&quot;folium-map&quot; id=&quot;map_aadf37373b9c42e4b366eda274e67e54&quot; &gt;&lt;/div&gt;\n        \n&lt;/body&gt;\n&lt;script&gt;\n    \n    \n            var map_aadf37373b9c42e4b366eda274e67e54 = L.map(\n                &quot;map_aadf37373b9c42e4b366eda274e67e54&quot;,\n                {\n                    center: [0.49850621132536266, -1.4063401731291885],\n                    crs: L.CRS.EPSG3857,\n                    zoom: 10,\n                    zoomControl: true,\n                    preferCanvas: false,\n                }\n            );\n\n            \n\n        \n    \n            var tile_layer_12fd1b2ad63daa35986e93e9d1f5f936 = L.tileLayer(\n                &quot;https://tile.openstreetmap.org/{z}/{x}/{y}.png&quot;,\n                {&quot;attribution&quot;: &quot;\\u0026copy; \\u003ca href=\\&quot;https://www.openstreetmap.org/copyright\\&quot;\\u003eOpenStreetMap\\u003c/a\\u003e contributors&quot;, &quot;detectRetina&quot;: false, &quot;maxNativeZoom&quot;: 19, &quot;maxZoom&quot;: 19, &quot;minZoom&quot;: 0, &quot;noWrap&quot;: false, &quot;opacity&quot;: 1, &quot;subdomains&quot;: &quot;abc&quot;, &quot;tms&quot;: false}\n            );\n        \n    \n            tile_layer_12fd1b2ad63daa35986e93e9d1f5f936.addTo(map_aadf37373b9c42e4b366eda274e67e54);\n        \n    \n            var marker_e7034dce0b34da1f78fbefb2e6a6bab5 = L.marker(\n                [28.56367, -80.57163],\n                {}\n            ).addTo(map_aadf37373b9c42e4b366eda274e67e54);\n        \n    \n            var div_icon_da77e069e73c2ed1d79201b8f2ffb743 = L.divIcon({&quot;className&quot;: &quot;empty&quot;, &quot;html&quot;: &quot;\\u003cdiv style=\\&quot;font-size: 12px; color:#d35400;\\&quot;\\u003e\\u003cb\\u003eCoastline\\u003c/b\\u003e\\u003c/div\\u003e&quot;, &quot;iconAnchor&quot;: [0, 0], &quot;iconSize&quot;: [20, 20]});\n            marker_e7034dce0b34da1f78fbefb2e6a6bab5.setIcon(div_icon_da77e069e73c2ed1d79201b8f2ffb743);\n        \n    \n            var marker_d9cf0ee2029011368da5c2539d2c3d4c = L.marker(\n                [0.49850621132536266, -1.4063401731291885],\n                {}\n            ).addTo(map_aadf37373b9c42e4b366eda274e67e54);\n        \n    \n            var div_icon_02afe1993d08cc639c958c4e7e862a08 = L.divIcon({&quot;className&quot;: &quot;empty&quot;, &quot;html&quot;: &quot;\\u003cdiv style=\\&quot;font-size: 12px; color:#d35400;\\&quot;\\u003e\\u003cb\\u003eLaunch Site\\u003cbr\\u003eDistance:    8926.83 KM\\u003c/b\\u003e\\u003c/div\\u003e&quot;, &quot;iconAnchor&quot;: [0, 0], &quot;iconSize&quot;: [20, 20]});\n            marker_d9cf0ee2029011368da5c2539d2c3d4c.setIcon(div_icon_02afe1993d08cc639c958c4e7e862a08);\n        \n    \n            tile_layer_12fd1b2ad63daa35986e93e9d1f5f936.addTo(map_aadf37373b9c42e4b366eda274e67e54);\n        \n    \n            var marker_dd284db8d21be24b4a34ec22feeb7489 = L.marker(\n                [28.56367, -80.57163],\n                {}\n            ).addTo(map_aadf37373b9c42e4b366eda274e67e54);\n        \n    \n            var div_icon_fbc2f80cf8692991d212492e6e1510eb = L.divIcon({&quot;className&quot;: &quot;empty&quot;, &quot;html&quot;: &quot;\\u003cdiv style=\\&quot;font-size: 12px; color:#d35400;\\&quot;\\u003e\\u003cb\\u003eCoastline\\u003c/b\\u003e\\u003c/div\\u003e&quot;, &quot;iconAnchor&quot;: [0, 0], &quot;iconSize&quot;: [20, 20]});\n            marker_dd284db8d21be24b4a34ec22feeb7489.setIcon(div_icon_fbc2f80cf8692991d212492e6e1510eb);\n        \n    \n            var marker_15c25d96ebc73d425e4bde70c2716f31 = L.marker(\n                [0.49850621132536266, -1.4063401731291885],\n                {}\n            ).addTo(map_aadf37373b9c42e4b366eda274e67e54);\n        \n    \n            var div_icon_804b0775e4c21b9e6740cc2f7195b645 = L.divIcon({&quot;className&quot;: &quot;empty&quot;, &quot;html&quot;: &quot;\\u003cdiv style=\\&quot;font-size: 12px; color:#d35400;\\&quot;\\u003e\\u003cb\\u003eLaunch Site\\u003cbr\\u003eDistance:    8926.83 KM\\u003c/b\\u003e\\u003c/div\\u003e&quot;, &quot;iconAnchor&quot;: [0, 0], &quot;iconSize&quot;: [20, 20]});\n            marker_15c25d96ebc73d425e4bde70c2716f31.setIcon(div_icon_804b0775e4c21b9e6740cc2f7195b645);\n        \n    \n            var poly_line_efa1a00c704c330f5ebe837a0c8d2e7f = L.polyline(\n                [[0.49850621132536266, -1.4063401731291885], [28.56367, -80.57163]],\n                {&quot;bubblingMouseEvents&quot;: true, &quot;color&quot;: &quot;blue&quot;, &quot;dashArray&quot;: null, &quot;dashOffset&quot;: null, &quot;fill&quot;: false, &quot;fillColor&quot;: &quot;blue&quot;, &quot;fillOpacity&quot;: 0.2, &quot;fillRule&quot;: &quot;evenodd&quot;, &quot;lineCap&quot;: &quot;round&quot;, &quot;lineJoin&quot;: &quot;round&quot;, &quot;noClip&quot;: false, &quot;opacity&quot;: 1.0, &quot;smoothFactor&quot;: 1.0, &quot;stroke&quot;: true, &quot;weight&quot;: 2}\n            ).addTo(map_aadf37373b9c42e4b366eda274e67e54);\n        \n&lt;/script&gt;\n&lt;/html&gt;\" style=\"position:absolute;width:100%;height:100%;left:0;top:0;border:none !important;\" allowfullscreen webkitallowfullscreen mozallowfullscreen></iframe></div></div>"
          },
          "metadata": {}
        }
      ],
      "execution_count": 38
    },
    {
      "cell_type": "markdown",
      "source": "Your updated map with distance line should look like the following screenshot:\n",
      "metadata": {}
    },
    {
      "cell_type": "markdown",
      "source": "<center>\n    <img src=\"https://cf-courses-data.s3.us.cloud-object-storage.appdomain.cloud/IBM-DS0321EN-SkillsNetwork/labs/module_3/images/launch_site_marker_distance.png\">\n</center>\n",
      "metadata": {}
    },
    {
      "cell_type": "markdown",
      "source": "*TODO:* Similarly, you can draw a line betwee a launch site to its closest city, railway, highway, etc. You need to use `MousePosition` to find the their coordinates on the map first\n",
      "metadata": {}
    },
    {
      "cell_type": "markdown",
      "source": "A railway map symbol may look like this:\n",
      "metadata": {}
    },
    {
      "cell_type": "markdown",
      "source": "<center>\n    <img src=\"https://cf-courses-data.s3.us.cloud-object-storage.appdomain.cloud/IBM-DS0321EN-SkillsNetwork/labs/module_3/images/railway.png\">\n</center>\n",
      "metadata": {}
    },
    {
      "cell_type": "markdown",
      "source": "A highway map symbol may look like this:\n",
      "metadata": {}
    },
    {
      "cell_type": "markdown",
      "source": "<center>\n    <img src=\"https://cf-courses-data.s3.us.cloud-object-storage.appdomain.cloud/IBM-DS0321EN-SkillsNetwork/labs/module_3/images/highway.png\">\n</center>\n",
      "metadata": {}
    },
    {
      "cell_type": "markdown",
      "source": "A city map symbol may look like this:\n",
      "metadata": {}
    },
    {
      "cell_type": "markdown",
      "source": "<center>\n    <img src=\"https://cf-courses-data.s3.us.cloud-object-storage.appdomain.cloud/IBM-DS0321EN-SkillsNetwork/labs/module_3/images/city.png\">\n</center>\n",
      "metadata": {}
    },
    {
      "cell_type": "code",
      "source": "# Create a marker with distance to a closest city, railway, highway, etc.\n# Draw a line between the marker to the launch site\n",
      "metadata": {},
      "outputs": [],
      "execution_count": null
    },
    {
      "cell_type": "code",
      "source": "",
      "metadata": {},
      "outputs": [],
      "execution_count": null
    },
    {
      "cell_type": "code",
      "source": "",
      "metadata": {},
      "outputs": [],
      "execution_count": null
    },
    {
      "cell_type": "markdown",
      "source": "After you plot distance lines to the proximities, you can answer the following questions easily:\n\n*   Are launch sites in close proximity to railways?\n*   Are launch sites in close proximity to highways?\n*   Are launch sites in close proximity to coastline?\n*   Do launch sites keep certain distance away from cities?\n\nAlso please try to explain your findings.\n",
      "metadata": {}
    },
    {
      "cell_type": "markdown",
      "source": "# Next Steps:\n\nNow you have discovered many interesting insights related to the launch sites' location using folium, in a very interactive way. Next, you will need to build a dashboard using Ploty Dash on detailed launch records.\n",
      "metadata": {}
    },
    {
      "cell_type": "markdown",
      "source": "## Authors\n",
      "metadata": {}
    },
    {
      "cell_type": "markdown",
      "source": "[Pratiksha Verma](https://www.linkedin.com/in/pratiksha-verma-6487561b1/)\n",
      "metadata": {}
    },
    {
      "cell_type": "markdown",
      "source": "<!--## Change Log--!>\n",
      "metadata": {}
    },
    {
      "cell_type": "markdown",
      "source": "<!--| Date (YYYY-MM-DD) | Version | Changed By      | Change Description      |\n| ----------------- | ------- | -------------   | ----------------------- |\n| 2022-11-09        | 1.0     | Pratiksha Verma | Converted initial version to Jupyterlite|--!>\n",
      "metadata": {}
    },
    {
      "cell_type": "markdown",
      "source": "### <h3 align=\"center\"> IBM Corporation 2022. All rights reserved. <h3/>\n",
      "metadata": {}
    }
  ]
}